{
 "cells": [
  {
   "cell_type": "code",
   "execution_count": 1,
   "metadata": {},
   "outputs": [],
   "source": [
    "import os\n",
    "import sys\n",
    "sys.path.insert(0, os.path.abspath('../'))\n",
    "\n",
    "import numpy as np\n",
    "from matplotlib import pyplot as plt\n",
    "import arrayfire as af\n",
    "af.set_backend('cpu')\n",
    "\n",
    "from dg_maxwell import utils\n",
    "from dg_maxwell import lagrange\n",
    "\n",
    "plt.rcParams['figure.figsize']     = 12, 7.5\n",
    "plt.rcParams['lines.linewidth']    = 1.5\n",
    "plt.rcParams['font.family']        = 'serif'\n",
    "plt.rcParams['font.weight']        = 'bold'\n",
    "plt.rcParams['font.size']          = 20  \n",
    "plt.rcParams['font.sans-serif']    = 'serif'\n",
    "plt.rcParams['text.usetex']        = True\n",
    "plt.rcParams['axes.linewidth']     = 1.5\n",
    "plt.rcParams['axes.titlesize']     = 'medium'\n",
    "plt.rcParams['axes.labelsize']     = 'medium'\n",
    "\n",
    "plt.rcParams['xtick.major.size']   = 8\n",
    "plt.rcParams['xtick.minor.size']   = 4\n",
    "plt.rcParams['xtick.major.pad']    = 8\n",
    "plt.rcParams['xtick.minor.pad']    = 8\n",
    "plt.rcParams['xtick.color']        = 'k'\n",
    "plt.rcParams['xtick.labelsize']    = 'medium'\n",
    "plt.rcParams['xtick.direction']    = 'in'    \n",
    "\n",
    "plt.rcParams['ytick.major.size']   = 8\n",
    "plt.rcParams['ytick.minor.size']   = 4\n",
    "plt.rcParams['ytick.major.pad']    = 8\n",
    "plt.rcParams['ytick.minor.pad']    = 8\n",
    "plt.rcParams['ytick.color']        = 'k'\n",
    "plt.rcParams['ytick.labelsize']    = 'medium'\n",
    "plt.rcParams['ytick.direction']    = 'in'\n",
    "plt.rcParams['text.usetex']        = True\n",
    "plt.rcParams['text.latex.unicode'] = True"
   ]
  },
  {
   "cell_type": "code",
   "execution_count": 2,
   "metadata": {},
   "outputs": [],
   "source": [
    "N_LGL = 8\n",
    "xi_LGL = lagrange.LGL_points(N_LGL)\n",
    "L_basis_poly1d, L_basis_af = lagrange.lagrange_polynomials(xi_LGL)\n",
    "L_basis_af = af.np_to_af_array(L_basis_af)"
   ]
  },
  {
   "cell_type": "code",
   "execution_count": 3,
   "metadata": {},
   "outputs": [
    {
     "name": "stdout",
     "output_type": "stream",
     "text": [
      "arrayfire.Array()\n",
      "Type: double\n",
      "\n",
      "[3 8 1 1]\n",
      "   -3.3516     3.3516     3.8672    -3.8672    -1.0547     1.0547     0.0391    -0.0391 \n",
      "    8.1407    -7.0966   -11.3475     9.8921     3.3316    -2.9043    -0.1249     0.1088 \n",
      "  -10.3581     6.1289    18.6834   -11.0549    -8.6700     5.1301     0.3448    -0.2040 \n",
      "\n",
      "\n"
     ]
    }
   ],
   "source": [
    "i = af.np_to_af_array(np.arange(3, dtype = np.int32))\n",
    "print(L_basis_af[i])"
   ]
  },
  {
   "cell_type": "code",
   "execution_count": 4,
   "metadata": {},
   "outputs": [
    {
     "name": "stdout",
     "output_type": "stream",
     "text": [
      "arrayfire.Array()\n",
      "Type: double\n",
      "\n",
      "[3 10 1 1]\n",
      "    1.0000    -0.1321     0.0258     0.0466    -0.0296    -0.0237     0.0233     0.0074    -0.0165    -0.0000 \n",
      "   -0.0000     0.7586    -0.0882    -0.1403     0.0840     0.0650    -0.0627    -0.0195     0.0432     0.0000 \n",
      "    0.0000     0.4874     0.9819     0.3719    -0.1691    -0.1156     0.1039     0.0309    -0.0662    -0.0000 \n",
      "\n",
      "\n"
     ]
    }
   ],
   "source": [
    "print(utils.polyval_1d(L_basis_af[i], af.np_to_af_array(np.linspace(-1., 1, 10))))"
   ]
  },
  {
   "cell_type": "code",
   "execution_count": 5,
   "metadata": {},
   "outputs": [
    {
     "name": "stdout",
     "output_type": "stream",
     "text": [
      "arrayfire.Array()\n",
      "Type: double\n",
      "\n",
      "[8 8 1 1]\n",
      "   -3.3516     3.3516     3.8672    -3.8672    -1.0547     1.0547     0.0391    -0.0391 \n",
      "    8.1407    -7.0966   -11.3475     9.8921     3.3316    -2.9043    -0.1249     0.1088 \n",
      "  -10.3581     6.1289    18.6834   -11.0549    -8.6700     5.1301     0.3448    -0.2040 \n",
      "   11.3898    -2.3839   -24.0330     5.0301    15.6735    -3.2805    -3.0304     0.6343 \n",
      "  -11.3898    -2.3839    24.0330     5.0301   -15.6735    -3.2805     3.0304     0.6343 \n",
      "   10.3581     6.1289   -18.6834   -11.0549     8.6700     5.1301    -0.3448    -0.2040 \n",
      "   -8.1407    -7.0966    11.3475     9.8921    -3.3316    -2.9043     0.1249     0.1088 \n",
      "    3.3516     3.3516    -3.8672    -3.8672     1.0547     1.0547    -0.0391    -0.0391 \n",
      "\n",
      "\n"
     ]
    }
   ],
   "source": [
    "print(L_basis_af)"
   ]
  },
  {
   "cell_type": "code",
   "execution_count": 33,
   "metadata": {},
   "outputs": [
    {
     "name": "stdout",
     "output_type": "stream",
     "text": [
      "arrayfire.Array()\n",
      "Type: double\n",
      "\n",
      "[10 1 1 1]\n",
      "   -1.0000 \n",
      "   -0.7778 \n",
      "   -0.5556 \n",
      "   -0.3333 \n",
      "   -0.1111 \n",
      "    0.1111 \n",
      "    0.3333 \n",
      "    0.5556 \n",
      "    0.7778 \n",
      "    1.0000 \n",
      "\n",
      "\n",
      "arrayfire.Array()\n",
      "Type: double\n",
      "\n",
      "[10 1 1 1]\n",
      "   -1.0000 \n",
      "   -0.7778 \n",
      "   -0.5556 \n",
      "   -0.3333 \n",
      "   -0.1111 \n",
      "    0.1111 \n",
      "    0.3333 \n",
      "    0.5556 \n",
      "    0.7778 \n",
      "    1.0000 \n",
      "\n",
      "\n",
      "arrayfire.Array()\n",
      "Type: double\n",
      "\n",
      "[10 10 1 1]\n",
      "   -1.0000    -0.7778    -0.5556    -0.3333    -0.1111     0.1111     0.3333     0.5556     0.7778     1.0000 \n",
      "   -1.0000    -0.7778    -0.5556    -0.3333    -0.1111     0.1111     0.3333     0.5556     0.7778     1.0000 \n",
      "   -1.0000    -0.7778    -0.5556    -0.3333    -0.1111     0.1111     0.3333     0.5556     0.7778     1.0000 \n",
      "   -1.0000    -0.7778    -0.5556    -0.3333    -0.1111     0.1111     0.3333     0.5556     0.7778     1.0000 \n",
      "   -1.0000    -0.7778    -0.5556    -0.3333    -0.1111     0.1111     0.3333     0.5556     0.7778     1.0000 \n",
      "   -1.0000    -0.7778    -0.5556    -0.3333    -0.1111     0.1111     0.3333     0.5556     0.7778     1.0000 \n",
      "   -1.0000    -0.7778    -0.5556    -0.3333    -0.1111     0.1111     0.3333     0.5556     0.7778     1.0000 \n",
      "   -1.0000    -0.7778    -0.5556    -0.3333    -0.1111     0.1111     0.3333     0.5556     0.7778     1.0000 \n",
      "   -1.0000    -0.7778    -0.5556    -0.3333    -0.1111     0.1111     0.3333     0.5556     0.7778     1.0000 \n",
      "   -1.0000    -0.7778    -0.5556    -0.3333    -0.1111     0.1111     0.3333     0.5556     0.7778     1.0000 \n",
      "\n",
      "\n",
      "arrayfire.Array()\n",
      "Type: double\n",
      "\n",
      "[10 10 1 1]\n",
      "   -1.0000    -1.0000    -1.0000    -1.0000    -1.0000    -1.0000    -1.0000    -1.0000    -1.0000    -1.0000 \n",
      "   -0.7778    -0.7778    -0.7778    -0.7778    -0.7778    -0.7778    -0.7778    -0.7778    -0.7778    -0.7778 \n",
      "   -0.5556    -0.5556    -0.5556    -0.5556    -0.5556    -0.5556    -0.5556    -0.5556    -0.5556    -0.5556 \n",
      "   -0.3333    -0.3333    -0.3333    -0.3333    -0.3333    -0.3333    -0.3333    -0.3333    -0.3333    -0.3333 \n",
      "   -0.1111    -0.1111    -0.1111    -0.1111    -0.1111    -0.1111    -0.1111    -0.1111    -0.1111    -0.1111 \n",
      "    0.1111     0.1111     0.1111     0.1111     0.1111     0.1111     0.1111     0.1111     0.1111     0.1111 \n",
      "    0.3333     0.3333     0.3333     0.3333     0.3333     0.3333     0.3333     0.3333     0.3333     0.3333 \n",
      "    0.5556     0.5556     0.5556     0.5556     0.5556     0.5556     0.5556     0.5556     0.5556     0.5556 \n",
      "    0.7778     0.7778     0.7778     0.7778     0.7778     0.7778     0.7778     0.7778     0.7778     0.7778 \n",
      "    1.0000     1.0000     1.0000     1.0000     1.0000     1.0000     1.0000     1.0000     1.0000     1.0000 \n",
      "\n",
      "\n"
     ]
    }
   ],
   "source": [
    "# Polyval 2D\n",
    "polynomials = L_basis_af\n",
    "x = utils.linspace(-1, 1, 10)\n",
    "y = utils.linspace(-1, 1, 10)\n",
    "print(x)\n",
    "print(y)\n",
    "x, y = utils.af_meshgrid(x, y)\n",
    "print(x)\n",
    "print(y)"
   ]
  },
  {
   "cell_type": "code",
   "execution_count": 34,
   "metadata": {},
   "outputs": [
    {
     "name": "stdout",
     "output_type": "stream",
     "text": [
      "8\n",
      "(10, 10)\n",
      "(10, 10)\n",
      "(8, 10, 10)\n",
      "(8, 10, 10)\n",
      "(8, 8, 10)\n"
     ]
    },
    {
     "ename": "RuntimeError",
     "evalue": "In function af_err af_matmul(void**, af_array, af_array, af_mat_prop, af_mat_prop)\nIn file src/api/c/blas.cpp:130\nmatmul can not be used in batch mode\n",
     "output_type": "error",
     "traceback": [
      "\u001b[0;31m---------------------------------------------------------------------------\u001b[0m",
      "\u001b[0;31mRuntimeError\u001b[0m                              Traceback (most recent call last)",
      "\u001b[0;32m<ipython-input-34-0a18d6b6b201>\u001b[0m in \u001b[0;36m<module>\u001b[0;34m()\u001b[0m\n\u001b[1;32m     18\u001b[0m \u001b[0mxy\u001b[0m \u001b[0;34m=\u001b[0m \u001b[0mx_power\u001b[0m \u001b[0;34m*\u001b[0m \u001b[0my_power\u001b[0m\u001b[0;34m\u001b[0m\u001b[0m\n\u001b[1;32m     19\u001b[0m \u001b[0mprint\u001b[0m\u001b[0;34m(\u001b[0m\u001b[0maf\u001b[0m\u001b[0;34m.\u001b[0m\u001b[0mtile\u001b[0m\u001b[0;34m(\u001b[0m\u001b[0mpolynomials\u001b[0m\u001b[0;34m,\u001b[0m \u001b[0md0\u001b[0m \u001b[0;34m=\u001b[0m \u001b[0;36m1\u001b[0m\u001b[0;34m,\u001b[0m \u001b[0md1\u001b[0m \u001b[0;34m=\u001b[0m \u001b[0;36m1\u001b[0m\u001b[0;34m,\u001b[0m \u001b[0md2\u001b[0m \u001b[0;34m=\u001b[0m \u001b[0mxy\u001b[0m\u001b[0;34m.\u001b[0m\u001b[0mshape\u001b[0m\u001b[0;34m[\u001b[0m\u001b[0;36m2\u001b[0m\u001b[0;34m]\u001b[0m\u001b[0;34m)\u001b[0m\u001b[0;34m.\u001b[0m\u001b[0mshape\u001b[0m\u001b[0;34m)\u001b[0m\u001b[0;34m\u001b[0m\u001b[0m\n\u001b[0;32m---> 20\u001b[0;31m \u001b[0maf\u001b[0m\u001b[0;34m.\u001b[0m\u001b[0mmatmul\u001b[0m\u001b[0;34m(\u001b[0m\u001b[0maf\u001b[0m\u001b[0;34m.\u001b[0m\u001b[0mtile\u001b[0m\u001b[0;34m(\u001b[0m\u001b[0mpolynomials\u001b[0m\u001b[0;34m,\u001b[0m \u001b[0md0\u001b[0m \u001b[0;34m=\u001b[0m \u001b[0;36m1\u001b[0m\u001b[0;34m,\u001b[0m \u001b[0md1\u001b[0m \u001b[0;34m=\u001b[0m \u001b[0;36m1\u001b[0m\u001b[0;34m,\u001b[0m \u001b[0md2\u001b[0m \u001b[0;34m=\u001b[0m \u001b[0mxy\u001b[0m\u001b[0;34m.\u001b[0m\u001b[0mshape\u001b[0m\u001b[0;34m[\u001b[0m\u001b[0;36m2\u001b[0m\u001b[0;34m]\u001b[0m\u001b[0;34m)\u001b[0m\u001b[0;34m,\u001b[0m \u001b[0mxy\u001b[0m\u001b[0;34m)\u001b[0m\u001b[0;34m\u001b[0m\u001b[0m\n\u001b[0m",
      "\u001b[0;32m/usr/local/lib/python3.5/dist-packages/arrayfire/blas.py\u001b[0m in \u001b[0;36mmatmul\u001b[0;34m(lhs, rhs, lhs_opts, rhs_opts)\u001b[0m\n\u001b[1;32m     55\u001b[0m     \u001b[0mout\u001b[0m \u001b[0;34m=\u001b[0m \u001b[0mArray\u001b[0m\u001b[0;34m(\u001b[0m\u001b[0;34m)\u001b[0m\u001b[0;34m\u001b[0m\u001b[0m\n\u001b[1;32m     56\u001b[0m     safe_call(backend.get().af_matmul(c_pointer(out.arr), lhs.arr, rhs.arr,\n\u001b[0;32m---> 57\u001b[0;31m                                       lhs_opts.value, rhs_opts.value))\n\u001b[0m\u001b[1;32m     58\u001b[0m     \u001b[0;32mreturn\u001b[0m \u001b[0mout\u001b[0m\u001b[0;34m\u001b[0m\u001b[0m\n\u001b[1;32m     59\u001b[0m \u001b[0;34m\u001b[0m\u001b[0m\n",
      "\u001b[0;32m/usr/local/lib/python3.5/dist-packages/arrayfire/util.py\u001b[0m in \u001b[0;36msafe_call\u001b[0;34m(af_error)\u001b[0m\n\u001b[1;32m     77\u001b[0m         \u001b[0merr_len\u001b[0m \u001b[0;34m=\u001b[0m \u001b[0mc_dim_t\u001b[0m\u001b[0;34m(\u001b[0m\u001b[0;36m0\u001b[0m\u001b[0;34m)\u001b[0m\u001b[0;34m\u001b[0m\u001b[0m\n\u001b[1;32m     78\u001b[0m         \u001b[0mbackend\u001b[0m\u001b[0;34m.\u001b[0m\u001b[0mget\u001b[0m\u001b[0;34m(\u001b[0m\u001b[0;34m)\u001b[0m\u001b[0;34m.\u001b[0m\u001b[0maf_get_last_error\u001b[0m\u001b[0;34m(\u001b[0m\u001b[0mc_pointer\u001b[0m\u001b[0;34m(\u001b[0m\u001b[0merr_str\u001b[0m\u001b[0;34m)\u001b[0m\u001b[0;34m,\u001b[0m \u001b[0mc_pointer\u001b[0m\u001b[0;34m(\u001b[0m\u001b[0merr_len\u001b[0m\u001b[0;34m)\u001b[0m\u001b[0;34m)\u001b[0m\u001b[0;34m\u001b[0m\u001b[0m\n\u001b[0;32m---> 79\u001b[0;31m         \u001b[0;32mraise\u001b[0m \u001b[0mRuntimeError\u001b[0m\u001b[0;34m(\u001b[0m\u001b[0mto_str\u001b[0m\u001b[0;34m(\u001b[0m\u001b[0merr_str\u001b[0m\u001b[0;34m)\u001b[0m\u001b[0;34m)\u001b[0m\u001b[0;34m\u001b[0m\u001b[0m\n\u001b[0m\u001b[1;32m     80\u001b[0m \u001b[0;34m\u001b[0m\u001b[0m\n\u001b[1;32m     81\u001b[0m \u001b[0;32mdef\u001b[0m \u001b[0mget_version\u001b[0m\u001b[0;34m(\u001b[0m\u001b[0;34m)\u001b[0m\u001b[0;34m:\u001b[0m\u001b[0;34m\u001b[0m\u001b[0m\n",
      "\u001b[0;31mRuntimeError\u001b[0m: In function af_err af_matmul(void**, af_array, af_array, af_mat_prop, af_mat_prop)\nIn file src/api/c/blas.cpp:130\nmatmul can not be used in batch mode\n"
     ]
    }
   ],
   "source": [
    "N = int(polynomials.shape[1])\n",
    "print(N)\n",
    "print(x.shape)\n",
    "print(y.shape)\n",
    "x = af.reorder(x, d0 = 2, d1 = 1, d2 = 0)\n",
    "y = af.reorder(y, d0 = 2, d1 = 1, d2 = 0)\n",
    "x = af.tile(x, d0 = N)\n",
    "y = af.tile(y, d0 = N)\n",
    "print(x.shape)\n",
    "print(y.shape)\n",
    "\n",
    "power_y = af.tile(af.range(N), d0 = 1, d1 = x.shape[1], d2 = y.shape[2])\n",
    "power_x = af.flip(power_y, dim = 0)\n",
    "\n",
    "x_power = x ** power_x\n",
    "y_power = y ** power_y\n",
    "\n",
    "xy = x_power * y_power\n",
    "print(af.tile(polynomials, d0 = 1, d1 = 1, d2 = xy.shape[2]).shape)\n",
    "af.matmul(af.tile(polynomials, d0 = 1, d1 = 1, d2 = xy.shape[2]), xy)"
   ]
  },
  {
   "cell_type": "code",
   "execution_count": 11,
   "metadata": {},
   "outputs": [
    {
     "name": "stdout",
     "output_type": "stream",
     "text": [
      "(8, 10, 10)\n"
     ]
    }
   ],
   "source": [
    "print(xy.shape)"
   ]
  },
  {
   "cell_type": "code",
   "execution_count": null,
   "metadata": {},
   "outputs": [],
   "source": []
  }
 ],
 "metadata": {
  "kernelspec": {
   "display_name": "Python 3",
   "language": "python",
   "name": "python3"
  },
  "language_info": {
   "codemirror_mode": {
    "name": "ipython",
    "version": 3
   },
   "file_extension": ".py",
   "mimetype": "text/x-python",
   "name": "python",
   "nbconvert_exporter": "python",
   "pygments_lexer": "ipython3",
   "version": "3.5.2"
  }
 },
 "nbformat": 4,
 "nbformat_minor": 2
}
