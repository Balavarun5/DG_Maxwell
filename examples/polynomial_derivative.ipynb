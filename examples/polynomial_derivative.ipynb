{
 "cells": [
  {
   "cell_type": "code",
   "execution_count": 1,
   "metadata": {},
   "outputs": [
    {
     "name": "stderr",
     "output_type": "stream",
     "text": [
      "/home/ubermensch/.local/anaconda3/lib/python3.6/site-packages/numpy/lib/polynomial.py:1193: FutureWarning: In the future extra properties will not be copied across when constructing one poly1d from another\n",
      "  other = poly1d(other)\n",
      "/home/ubermensch/.local/anaconda3/lib/python3.6/site-packages/numpy/lib/polynomial.py:1220: FutureWarning: In the future extra properties will not be copied across when constructing one poly1d from another\n",
      "  other = poly1d(other)\n"
     ]
    }
   ],
   "source": [
    "import os\n",
    "import sys\n",
    "sys.path.insert(0, os.path.abspath('../'))\n",
    "\n",
    "import numpy as np\n",
    "from matplotlib import pyplot as plt\n",
    "import arrayfire as af\n",
    "\n",
    "from dg_maxwell import utils\n",
    "from dg_maxwell import lagrange\n",
    "from dg_maxwell import params\n",
    "\n",
    "af.set_backend(params.backend)"
   ]
  },
  {
   "cell_type": "code",
   "execution_count": 3,
   "metadata": {},
   "outputs": [
    {
     "name": "stdout",
     "output_type": "stream",
     "text": [
      "arrayfire.Array()\n",
      "Type: unsigned int\n",
      "\n",
      "[3 3 1 1]\n",
      "         0          3          6 \n",
      "         1          4          7 \n",
      "         2          5          8 \n",
      "\n",
      "\n"
     ]
    }
   ],
   "source": [
    "N   = 3\n",
    "\n",
    "N_a = 3\n",
    "foo = af.range(N * N_a, dtype = af.Dtype.u32)\n",
    "foo = af.moddims(foo, d0 = N, d1 = N_a)\n",
    "\n",
    "print(foo)"
   ]
  },
  {
   "cell_type": "code",
   "execution_count": 14,
   "metadata": {},
   "outputs": [
    {
     "name": "stdout",
     "output_type": "stream",
     "text": [
      "arrayfire.Array()\n",
      "Type: float\n",
      "\n",
      "[3 2 1 1]\n",
      "    2.0000     1.0000 \n",
      "    2.0000     1.0000 \n",
      "    2.0000     1.0000 \n",
      "\n",
      "\n"
     ]
    }
   ],
   "source": [
    "derivtive_multiplier = af.transpose(af.tile(af.flip(af.range(foo.shape[0] - 1) + 1), d0 = 1, d1 = foo.shape[1]))\n",
    "print(derivtive_multiplier)"
   ]
  },
  {
   "cell_type": "code",
   "execution_count": 15,
   "metadata": {},
   "outputs": [],
   "source": [
    "foo_derivative = foo[:, : -1] * derivtive_multiplier"
   ]
  },
  {
   "cell_type": "code",
   "execution_count": 17,
   "metadata": {},
   "outputs": [
    {
     "name": "stdout",
     "output_type": "stream",
     "text": [
      "arrayfire.Array()\n",
      "Type: float\n",
      "\n",
      "[3 2 1 1]\n",
      "    0.0000     3.0000 \n",
      "    2.0000     4.0000 \n",
      "    4.0000     5.0000 \n",
      "\n",
      "\n"
     ]
    }
   ],
   "source": [
    "print(foo_derivative)"
   ]
  },
  {
   "cell_type": "code",
   "execution_count": 18,
   "metadata": {},
   "outputs": [
    {
     "name": "stdout",
     "output_type": "stream",
     "text": [
      " \n",
      "3 x + 6\t<---------- original foo polynomial\n",
      "\n",
      " \n",
      "3\t<---------- foo_der\n",
      "\n",
      "\n",
      "*********************************************************\n",
      "\n",
      "   2\n",
      "1 x + 4 x + 7\t<---------- original foo polynomial\n",
      "\n",
      " \n",
      "2 x + 4\t<---------- foo_der\n",
      "\n",
      "\n",
      "*********************************************************\n",
      "\n",
      "   2\n",
      "2 x + 5 x + 8\t<---------- original foo polynomial\n",
      "\n",
      " \n",
      "4 x + 5\t<---------- foo_der\n",
      "\n",
      "\n",
      "*********************************************************\n",
      "\n"
     ]
    }
   ],
   "source": [
    "for poly_foo, poly_bar in zip(foo, bar):\n",
    "    foo_poly = np.poly1d(np.array(af.transpose(poly_foo)))\n",
    "    print(foo_poly, end = '')\n",
    "    print('\\t<---------- original foo polynomial\\n')\n",
    "\n",
    "    print(np.polyder(foo_poly), end = '')\n",
    "    print('\\t<---------- foo_der\\n')\n",
    "    print('\\n*********************************************************\\n')"
   ]
  },
  {
   "cell_type": "code",
   "execution_count": null,
   "metadata": {},
   "outputs": [],
   "source": []
  }
 ],
 "metadata": {
  "kernelspec": {
   "display_name": "Python 3",
   "language": "python",
   "name": "python3"
  },
  "language_info": {
   "codemirror_mode": {
    "name": "ipython",
    "version": 3
   },
   "file_extension": ".py",
   "mimetype": "text/x-python",
   "name": "python",
   "nbconvert_exporter": "python",
   "pygments_lexer": "ipython3",
   "version": "3.6.3"
  }
 },
 "nbformat": 4,
 "nbformat_minor": 2
}
