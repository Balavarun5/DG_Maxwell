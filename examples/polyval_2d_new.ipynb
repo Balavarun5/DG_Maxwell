{
 "cells": [
  {
   "cell_type": "code",
   "execution_count": 16,
   "metadata": {},
   "outputs": [
    {
     "name": "stderr",
     "output_type": "stream",
     "text": [
      "/home/ubermensch/.local/anaconda3/lib/python3.6/site-packages/numpy/lib/polynomial.py:1193: FutureWarning: In the future extra properties will not be copied across when constructing one poly1d from another\n",
      "  other = poly1d(other)\n",
      "/home/ubermensch/.local/anaconda3/lib/python3.6/site-packages/numpy/lib/polynomial.py:1220: FutureWarning: In the future extra properties will not be copied across when constructing one poly1d from another\n",
      "  other = poly1d(other)\n"
     ]
    }
   ],
   "source": [
    "import os\n",
    "import sys\n",
    "sys.path.insert(0, os.path.abspath('../'))\n",
    "\n",
    "import arrayfire as af\n",
    "import numpy as np\n",
    "\n",
    "from dg_maxwell import params\n",
    "from dg_maxwell import utils\n",
    "\n",
    "af.set_backend(params.backend)"
   ]
  },
  {
   "cell_type": "code",
   "execution_count": 17,
   "metadata": {},
   "outputs": [],
   "source": [
    "def polynomial_product_coeffs(poly1_coeffs, poly2_coeffs):\n",
    "    '''\n",
    "    '''\n",
    "    poly1_coeffs_tile = af.transpose(af.tile(poly1_coeffs, 1, poly1_coeffs.shape[0]))\n",
    "    poly2_coeffs_tile = af.tile(poly2_coeffs, 1, poly2_coeffs.shape[0])\n",
    "\n",
    "    product_coeffs = poly1_coeffs_tile * poly2_coeffs_tile\n",
    "\n",
    "    return product_coeffs"
   ]
  },
  {
   "cell_type": "code",
   "execution_count": 18,
   "metadata": {},
   "outputs": [],
   "source": [
    "foo_degree = 4\n",
    "foo = af.flip(af.np_to_af_array(np.arange(1, foo_degree)))\n",
    "\n",
    "bar_degree = 4\n",
    "bar = af.flip(af.np_to_af_array(np.arange(1, bar_degree)))"
   ]
  },
  {
   "cell_type": "code",
   "execution_count": 19,
   "metadata": {},
   "outputs": [
    {
     "name": "stdout",
     "output_type": "stream",
     "text": [
      "arrayfire.Array()\n",
      "Type: long int\n",
      "\n",
      "[3 1 1 1]\n",
      "         3 \n",
      "         2 \n",
      "         1 \n",
      "\n",
      "\n",
      "arrayfire.Array()\n",
      "Type: long int\n",
      "\n",
      "[3 1 1 1]\n",
      "         3 \n",
      "         2 \n",
      "         1 \n",
      "\n",
      "\n"
     ]
    }
   ],
   "source": [
    "print(foo)\n",
    "print(bar)"
   ]
  },
  {
   "cell_type": "code",
   "execution_count": 21,
   "metadata": {},
   "outputs": [
    {
     "name": "stdout",
     "output_type": "stream",
     "text": [
      "arrayfire.Array()\n",
      "Type: long int\n",
      "\n",
      "[3 3 1 1]\n",
      "         9          6          3 \n",
      "         6          4          2 \n",
      "         3          2          1 \n",
      "\n",
      "\n"
     ]
    }
   ],
   "source": [
    "poly_xy = polynomial_product_coeffs(foo, bar)\n",
    "print(poly_xy)"
   ]
  },
  {
   "cell_type": "code",
   "execution_count": 22,
   "metadata": {},
   "outputs": [],
   "source": [
    "x = 0.5\n",
    "y = 0.7"
   ]
  },
  {
   "cell_type": "code",
   "execution_count": 68,
   "metadata": {},
   "outputs": [
    {
     "name": "stdout",
     "output_type": "stream",
     "text": [
      "arrayfire.Array()\n",
      "Type: unsigned int\n",
      "\n",
      "[3 3 1 1]\n",
      "         2          1          0 \n",
      "         2          1          0 \n",
      "         2          1          0 \n",
      "\n",
      "\n"
     ]
    }
   ],
   "source": [
    "x_power = af.flip(af.range(poly_xy.shape[1], dtype = af.Dtype.u32))\n",
    "x_power = af.tile(af.transpose(x_power), d0 = poly_xy.shape[0])\n",
    "print(x_power)"
   ]
  },
  {
   "cell_type": "code",
   "execution_count": 69,
   "metadata": {},
   "outputs": [
    {
     "name": "stdout",
     "output_type": "stream",
     "text": [
      "arrayfire.Array()\n",
      "Type: unsigned int\n",
      "\n",
      "[3 3 1 1]\n",
      "         2          2          2 \n",
      "         1          1          1 \n",
      "         0          0          0 \n",
      "\n",
      "\n"
     ]
    }
   ],
   "source": [
    "y_power = af.flip(af.range(poly_xy.shape[0], dtype = af.Dtype.u32))\n",
    "y_power = af.tile(y_power, d0 = 1, d1 = poly_xy.shape[1])\n",
    "print(y_power)"
   ]
  },
  {
   "cell_type": "code",
   "execution_count": 70,
   "metadata": {},
   "outputs": [
    {
     "name": "stdout",
     "output_type": "stream",
     "text": [
      "arrayfire.Array()\n",
      "Type: float\n",
      "\n",
      "[3 3 1 1]\n",
      "    0.2500     0.5000     1.0000 \n",
      "    0.2500     0.5000     1.0000 \n",
      "    0.2500     0.5000     1.0000 \n",
      "\n",
      "\n",
      "arrayfire.Array()\n",
      "Type: float\n",
      "\n",
      "[3 3 1 1]\n",
      "    0.4900     0.4900     0.4900 \n",
      "    0.7000     0.7000     0.7000 \n",
      "    1.0000     1.0000     1.0000 \n",
      "\n",
      "\n"
     ]
    }
   ],
   "source": [
    "X = af.constant(x, d0 = poly_xy.shape[0], d1 = poly_xy.shape[1])\n",
    "X = X**x_power\n",
    "print(X)\n",
    "\n",
    "Y = af.constant(y, d0 = poly_xy.shape[0], d1 = poly_xy.shape[1])\n",
    "Y = Y**y_power\n",
    "print(Y)"
   ]
  },
  {
   "cell_type": "code",
   "execution_count": 71,
   "metadata": {},
   "outputs": [
    {
     "name": "stdout",
     "output_type": "stream",
     "text": [
      "0.25\n"
     ]
    }
   ],
   "source": [
    "print(0.25 * 1)"
   ]
  },
  {
   "cell_type": "code",
   "execution_count": 72,
   "metadata": {},
   "outputs": [
    {
     "name": "stdout",
     "output_type": "stream",
     "text": [
      "arrayfire.Array()\n",
      "Type: float\n",
      "\n",
      "[3 3 1 1]\n",
      "    0.1225     0.2450     0.4900 \n",
      "    0.1750     0.3500     0.7000 \n",
      "    0.2500     0.5000     1.0000 \n",
      "\n",
      "\n",
      "arrayfire.Array()\n",
      "Type: float\n",
      "\n",
      "[3 3 1 1]\n",
      "    1.1025     1.4700     1.4700 \n",
      "    1.0500     1.4000     1.4000 \n",
      "    0.7500     1.0000     1.0000 \n",
      "\n",
      "\n"
     ]
    }
   ],
   "source": [
    "XY = X * Y\n",
    "print(XY)\n",
    "poly_val = XY * poly_xy\n",
    "print(poly_val)"
   ]
  },
  {
   "cell_type": "code",
   "execution_count": 52,
   "metadata": {},
   "outputs": [
    {
     "name": "stdout",
     "output_type": "stream",
     "text": [
      "10.642499923706055\n"
     ]
    }
   ],
   "source": [
    "print(poly_val)"
   ]
  },
  {
   "cell_type": "code",
   "execution_count": null,
   "metadata": {},
   "outputs": [],
   "source": []
  }
 ],
 "metadata": {
  "kernelspec": {
   "display_name": "Python 3",
   "language": "python",
   "name": "python3"
  },
  "language_info": {
   "codemirror_mode": {
    "name": "ipython",
    "version": 3
   },
   "file_extension": ".py",
   "mimetype": "text/x-python",
   "name": "python",
   "nbconvert_exporter": "python",
   "pygments_lexer": "ipython3",
   "version": "3.6.3"
  }
 },
 "nbformat": 4,
 "nbformat_minor": 2
}
