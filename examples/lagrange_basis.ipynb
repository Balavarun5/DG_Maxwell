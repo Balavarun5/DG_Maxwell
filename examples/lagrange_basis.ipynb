{
 "cells": [
  {
   "cell_type": "code",
   "execution_count": 1,
   "metadata": {},
   "outputs": [],
   "source": [
    "import os\n",
    "import sys\n",
    "sys.path.insert(0, os.path.abspath('../'))\n",
    "\n",
    "import numpy as np\n",
    "from matplotlib import pyplot as plt\n",
    "import arrayfire as af\n",
    "af.set_backend('cpu')\n",
    "\n",
    "from dg_maxwell import utils\n",
    "from dg_maxwell import lagrange\n",
    "\n",
    "plt.rcParams['figure.figsize']     = 12, 7.5\n",
    "plt.rcParams['lines.linewidth']    = 1.5\n",
    "plt.rcParams['font.family']        = 'serif'\n",
    "plt.rcParams['font.weight']        = 'bold'\n",
    "plt.rcParams['font.size']          = 20  \n",
    "plt.rcParams['font.sans-serif']    = 'serif'\n",
    "plt.rcParams['text.usetex']        = True\n",
    "plt.rcParams['axes.linewidth']     = 1.5\n",
    "plt.rcParams['axes.titlesize']     = 'medium'\n",
    "plt.rcParams['axes.labelsize']     = 'medium'\n",
    "\n",
    "plt.rcParams['xtick.major.size']   = 8\n",
    "plt.rcParams['xtick.minor.size']   = 4\n",
    "plt.rcParams['xtick.major.pad']    = 8\n",
    "plt.rcParams['xtick.minor.pad']    = 8\n",
    "plt.rcParams['xtick.color']        = 'k'\n",
    "plt.rcParams['xtick.labelsize']    = 'medium'\n",
    "plt.rcParams['xtick.direction']    = 'in'    \n",
    "\n",
    "plt.rcParams['ytick.major.size']   = 8\n",
    "plt.rcParams['ytick.minor.size']   = 4\n",
    "plt.rcParams['ytick.major.pad']    = 8\n",
    "plt.rcParams['ytick.minor.pad']    = 8\n",
    "plt.rcParams['ytick.color']        = 'k'\n",
    "plt.rcParams['ytick.labelsize']    = 'medium'\n",
    "plt.rcParams['ytick.direction']    = 'in'\n",
    "plt.rcParams['text.usetex']        = True\n",
    "plt.rcParams['text.latex.unicode'] = True\n"
   ]
  },
  {
   "cell_type": "code",
   "execution_count": 38,
   "metadata": {},
   "outputs": [],
   "source": [
    "N_LGL = 8\n",
    "xi_LGL = lagrange.LGL_points(N_LGL)\n",
    "L_basis_poly1d, L_basis_af = lagrange.lagrange_polynomials(xi_LGL)\n",
    "L_basis_af = af.np_to_af_array(L_basis_af)"
   ]
  },
  {
   "cell_type": "code",
   "execution_count": 39,
   "metadata": {},
   "outputs": [
    {
     "name": "stdout",
     "output_type": "stream",
     "text": [
      "        7         6         5         4         3         2\n",
      "-3.352 x + 3.352 x + 3.867 x - 3.867 x - 1.055 x + 1.055 x + 0.03906 x - 0.03906\n",
      "       7         6         5         4         3         2\n",
      "8.141 x - 7.097 x - 11.35 x + 9.892 x + 3.332 x - 2.904 x - 0.1249 x + 0.1088\n",
      "        7         6         5         4        3        2\n",
      "-10.36 x + 6.129 x + 18.68 x - 11.05 x - 8.67 x + 5.13 x + 0.3448 x - 0.204\n",
      "       7         6         5        4         3        2\n",
      "11.39 x - 2.384 x - 24.03 x + 5.03 x + 15.67 x - 3.28 x - 3.03 x + 0.6343\n",
      "        7         6         5        4         3        2\n",
      "-11.39 x - 2.384 x + 24.03 x + 5.03 x - 15.67 x - 3.28 x + 3.03 x + 0.6343\n",
      "       7         6         5         4        3        2\n",
      "10.36 x + 6.129 x - 18.68 x - 11.05 x + 8.67 x + 5.13 x - 0.3448 x - 0.204\n",
      "        7         6         5         4         3         2\n",
      "-8.141 x - 7.097 x + 11.35 x + 9.892 x - 3.332 x - 2.904 x + 0.1249 x + 0.1088\n",
      "       7         6         5         4         3         2\n",
      "3.352 x + 3.352 x - 3.867 x - 3.867 x + 1.055 x + 1.055 x - 0.03906 x - 0.03906\n"
     ]
    }
   ],
   "source": [
    "for poly in L_basis_poly1d:\n",
    "    print(poly)"
   ]
  },
  {
   "cell_type": "code",
   "execution_count": 40,
   "metadata": {},
   "outputs": [
    {
     "name": "stdout",
     "output_type": "stream",
     "text": [
      "arrayfire.Array()\n",
      "Type: double\n",
      "\n",
      "[8 8 1 1]\n",
      "   -3.3516     3.3516     3.8672    -3.8672    -1.0547     1.0547     0.0391    -0.0391 \n",
      "    8.1407    -7.0966   -11.3475     9.8921     3.3316    -2.9043    -0.1249     0.1088 \n",
      "  -10.3581     6.1289    18.6834   -11.0549    -8.6700     5.1301     0.3448    -0.2040 \n",
      "   11.3898    -2.3839   -24.0330     5.0301    15.6735    -3.2805    -3.0304     0.6343 \n",
      "  -11.3898    -2.3839    24.0330     5.0301   -15.6735    -3.2805     3.0304     0.6343 \n",
      "   10.3581     6.1289   -18.6834   -11.0549     8.6700     5.1301    -0.3448    -0.2040 \n",
      "   -8.1407    -7.0966    11.3475     9.8921    -3.3316    -2.9043     0.1249     0.1088 \n",
      "    3.3516     3.3516    -3.8672    -3.8672     1.0547     1.0547    -0.0391    -0.0391 \n",
      "\n",
      "\n"
     ]
    }
   ],
   "source": [
    "print(L_basis_af)"
   ]
  },
  {
   "cell_type": "code",
   "execution_count": 41,
   "metadata": {},
   "outputs": [],
   "source": [
    "def Li_basis_value(L_basis, i, xi):\n",
    "    '''\n",
    "    Finds the value of the :math:`i^{th}` Lagrange basis polynomial\n",
    "    at the given :math:`\\\\xi` coordinates.\n",
    "    \n",
    "    Parameters\n",
    "    ----------\n",
    "    L_basis : af.Array [N_LGL N_LGL 1 1]\n",
    "              Lagrange basis polynomial coefficient array\n",
    "              \n",
    "    i       : af.array [N 1 1 1]\n",
    "              Index of the Lagrange basis polynomials\n",
    "              to be evaluated.\n",
    "              \n",
    "    xi      : af.Array [N 1 1 1]\n",
    "              :math:`\\\\xi` coordinates at which the :math:`i^{th}` Lagrange\n",
    "              basis polynomial is to be evaluated.\n",
    "    '''\n",
    "    N_LGL = int(L_basis.shape[0])\n",
    "    xi_   = af.tile(af.transpose(xi), d0 = N_LGL)\n",
    "    power = af.tile(af.flip(af.np_to_af_array(np.arange(N_LGL)), dim = 0), d0 = 1, d1 = xi.shape[0])\n",
    "    \n",
    "    xi_power = xi_**power\n",
    "    \n",
    "    return af.matmul(L_basis[i], xi_power)"
   ]
  },
  {
   "cell_type": "code",
   "execution_count": 42,
   "metadata": {},
   "outputs": [
    {
     "name": "stdout",
     "output_type": "stream",
     "text": [
      "arrayfire.Array()\n",
      "Type: double\n",
      "\n",
      "[8 10 1 1]\n",
      "   -1.0000    -0.1722    -0.0163    -0.0005    -0.0000     0.0000     0.0005     0.0163     0.1722     1.0000 \n",
      "    1.0000     0.2214     0.0294     0.0014     0.0000     0.0000     0.0014     0.0294     0.2214     1.0000 \n",
      "   -1.0000    -0.2846    -0.0529    -0.0041    -0.0000     0.0000     0.0041     0.0529     0.2846     1.0000 \n",
      "    1.0000     0.3660     0.0953     0.0123     0.0002     0.0002     0.0123     0.0953     0.3660     1.0000 \n",
      "   -1.0000    -0.4705    -0.1715    -0.0370    -0.0014     0.0014     0.0370     0.1715     0.4705     1.0000 \n",
      "    1.0000     0.6049     0.3086     0.1111     0.0123     0.0123     0.1111     0.3086     0.6049     1.0000 \n",
      "   -1.0000    -0.7778    -0.5556    -0.3333    -0.1111     0.1111     0.3333     0.5556     0.7778     1.0000 \n",
      "    1.0000     1.0000     1.0000     1.0000     1.0000     1.0000     1.0000     1.0000     1.0000     1.0000 \n",
      "\n",
      "\n",
      "arrayfire.Array()\n",
      "Type: double\n",
      "\n",
      "[3 10 1 1]\n",
      "    1.0000    -0.1321     0.0258     0.0466    -0.0296    -0.0237     0.0233     0.0074    -0.0165    -0.0000 \n",
      "   -0.0000     0.7586    -0.0882    -0.1403     0.0840     0.0650    -0.0627    -0.0195     0.0432     0.0000 \n",
      "    0.0000     0.4874     0.9819     0.3719    -0.1691    -0.1156     0.1039     0.0309    -0.0662    -0.0000 \n",
      "\n",
      "\n"
     ]
    }
   ],
   "source": [
    "Li_basis_value(L_basis_af, i, af.np_to_af_array(np.linspace(-1., 1, 10)))"
   ]
  },
  {
   "cell_type": "code",
   "execution_count": 18,
   "metadata": {},
   "outputs": [],
   "source": [
    "i = af.np_to_af_array(np.arange(3, dtype = np.int32))\n",
    "powers = af.range(N_LGL, dtype = af.Dtype.u16)"
   ]
  },
  {
   "cell_type": "code",
   "execution_count": 15,
   "metadata": {},
   "outputs": [
    {
     "name": "stdout",
     "output_type": "stream",
     "text": [
      "arrayfire.Array()\n",
      "Type: int\n",
      "\n",
      "[3 1 1 1]\n",
      "         0 \n",
      "         1 \n",
      "         2 \n",
      "\n",
      "\n"
     ]
    }
   ],
   "source": [
    "print(x)"
   ]
  },
  {
   "cell_type": "code",
   "execution_count": 14,
   "metadata": {},
   "outputs": [
    {
     "data": {
      "text/plain": [
       "array([[ -3.3515625 ,   3.3515625 ,   3.8671875 ,  -3.8671875 ,\n",
       "         -1.0546875 ,   1.0546875 ,   0.0390625 ,  -0.0390625 ],\n",
       "       [  8.14072272,  -7.09659483, -11.34747768,   9.89205188,\n",
       "          3.33160871,  -2.90429707,  -0.12485375,   0.10884002],\n",
       "       [-10.35813683,   6.12891144,  18.68335516, -11.05494464,\n",
       "         -8.67003714,   5.13006255,   0.34481881,  -0.20402935]])"
      ]
     },
     "execution_count": 14,
     "metadata": {},
     "output_type": "execute_result"
    }
   ],
   "source": [
    "L_basis_af[x]"
   ]
  },
  {
   "cell_type": "code",
   "execution_count": 12,
   "metadata": {},
   "outputs": [],
   "source": [
    "def lagrange_function_value(lagrange_coeff_array, xi):\n",
    "    '''\n",
    "    '''\n",
    "    xi_tile    = af.transpose(af.tile(xi, 1, xi.shape[0]))\n",
    "    power      = af.flip(af.range(xi.shape[0]))\n",
    "    power_tile = af.tile(power, 1, xi.shape[0])\n",
    "    xi_pow     = af.arith.pow(xi_tile, power_tile)\n",
    "    index      = af.range(xi.shape[0])\n",
    "    print(lagrange_coeff_array)\n",
    "    print(xi_pow)\n",
    "    L_i        = af.blas.matmul(lagrange_coeff_array[index], xi_pow)\n",
    "    \n",
    "    return L_i"
   ]
  },
  {
   "cell_type": "code",
   "execution_count": 14,
   "metadata": {},
   "outputs": [
    {
     "ename": "IndexError",
     "evalue": "only integers, slices (`:`), ellipsis (`...`), numpy.newaxis (`None`) and integer or boolean arrays are valid indices",
     "output_type": "error",
     "traceback": [
      "\u001b[0;31m---------------------------------------------------------------------------\u001b[0m",
      "\u001b[0;31mIndexError\u001b[0m                                Traceback (most recent call last)",
      "\u001b[0;32m<ipython-input-14-6b3611cfccbc>\u001b[0m in \u001b[0;36m<module>\u001b[0;34m()\u001b[0m\n\u001b[0;32m----> 1\u001b[0;31m \u001b[0mlagrange\u001b[0m\u001b[0;34m.\u001b[0m\u001b[0mlagrange_function_value\u001b[0m\u001b[0;34m(\u001b[0m\u001b[0mL_basis_af\u001b[0m\u001b[0;34m)\u001b[0m\u001b[0;34m\u001b[0m\u001b[0m\n\u001b[0m",
      "\u001b[0;32m~/workspace/quazar/git/amanabt/DG_Maxwell/dg_maxwell/lagrange.py\u001b[0m in \u001b[0;36mlagrange_function_value\u001b[0;34m(lagrange_coeff_array)\u001b[0m\n\u001b[1;32m    252\u001b[0m     \u001b[0mxi_pow\u001b[0m     \u001b[0;34m=\u001b[0m \u001b[0maf\u001b[0m\u001b[0;34m.\u001b[0m\u001b[0marith\u001b[0m\u001b[0;34m.\u001b[0m\u001b[0mpow\u001b[0m\u001b[0;34m(\u001b[0m\u001b[0mxi_tile\u001b[0m\u001b[0;34m,\u001b[0m \u001b[0mpower_tile\u001b[0m\u001b[0;34m)\u001b[0m\u001b[0;34m\u001b[0m\u001b[0m\n\u001b[1;32m    253\u001b[0m     \u001b[0mindex\u001b[0m      \u001b[0;34m=\u001b[0m \u001b[0maf\u001b[0m\u001b[0;34m.\u001b[0m\u001b[0mrange\u001b[0m\u001b[0;34m(\u001b[0m\u001b[0mparams\u001b[0m\u001b[0;34m.\u001b[0m\u001b[0mN_LGL\u001b[0m\u001b[0;34m)\u001b[0m\u001b[0;34m\u001b[0m\u001b[0m\n\u001b[0;32m--> 254\u001b[0;31m     \u001b[0mL_i\u001b[0m        \u001b[0;34m=\u001b[0m \u001b[0maf\u001b[0m\u001b[0;34m.\u001b[0m\u001b[0mblas\u001b[0m\u001b[0;34m.\u001b[0m\u001b[0mmatmul\u001b[0m\u001b[0;34m(\u001b[0m\u001b[0mlagrange_coeff_array\u001b[0m\u001b[0;34m[\u001b[0m\u001b[0mindex\u001b[0m\u001b[0;34m]\u001b[0m\u001b[0;34m,\u001b[0m \u001b[0mxi_pow\u001b[0m\u001b[0;34m)\u001b[0m\u001b[0;34m\u001b[0m\u001b[0m\n\u001b[0m\u001b[1;32m    255\u001b[0m \u001b[0;34m\u001b[0m\u001b[0m\n\u001b[1;32m    256\u001b[0m     \u001b[0;32mreturn\u001b[0m \u001b[0mL_i\u001b[0m\u001b[0;34m\u001b[0m\u001b[0m\n",
      "\u001b[0;31mIndexError\u001b[0m: only integers, slices (`:`), ellipsis (`...`), numpy.newaxis (`None`) and integer or boolean arrays are valid indices"
     ]
    }
   ],
   "source": [
    "lagrange.lagrange_function_value(L_basis_af)"
   ]
  },
  {
   "cell_type": "code",
   "execution_count": null,
   "metadata": {},
   "outputs": [],
   "source": []
  }
 ],
 "metadata": {
  "kernelspec": {
   "display_name": "Python 3",
   "language": "python",
   "name": "python3"
  },
  "language_info": {
   "codemirror_mode": {
    "name": "ipython",
    "version": 3
   },
   "file_extension": ".py",
   "mimetype": "text/x-python",
   "name": "python",
   "nbconvert_exporter": "python",
   "pygments_lexer": "ipython3",
   "version": "3.5.2"
  }
 },
 "nbformat": 4,
 "nbformat_minor": 2
}
