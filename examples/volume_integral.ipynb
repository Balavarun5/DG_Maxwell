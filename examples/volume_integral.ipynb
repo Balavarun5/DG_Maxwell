{
 "cells": [
  {
   "cell_type": "code",
   "execution_count": 1,
   "metadata": {},
   "outputs": [
    {
     "name": "stdout",
     "output_type": "stream",
     "text": [
      "gmshtranslator friendly reminder: rules and actions prototypes\n",
      "\n",
      "\n",
      "def node_condition(tag,x,y,z,physgroups): \n",
      "def node_action(tag,x,y,z):\n",
      "def element_condition(eletag,eletype,physgrp,nodes):\n",
      "def element_action(eletag,eletype,physgrp,nodes):\n"
     ]
    },
    {
     "name": "stderr",
     "output_type": "stream",
     "text": [
      "/home/ubermensch/.local/anaconda3/lib/python3.6/site-packages/numpy/lib/polynomial.py:1193: FutureWarning: In the future extra properties will not be copied across when constructing one poly1d from another\n",
      "  other = poly1d(other)\n",
      "/home/ubermensch/.local/anaconda3/lib/python3.6/site-packages/numpy/lib/polynomial.py:1220: FutureWarning: In the future extra properties will not be copied across when constructing one poly1d from another\n",
      "  other = poly1d(other)\n"
     ]
    }
   ],
   "source": [
    "import os\n",
    "import sys\n",
    "sys.path.insert(0, os.path.abspath('../'))\n",
    "\n",
    "import numpy as np\n",
    "from matplotlib import pyplot as plt\n",
    "from mpl_toolkits.mplot3d import Axes3D as ax\n",
    "import arrayfire as af\n",
    "\n",
    "from dg_maxwell import params\n",
    "from dg_maxwell import utils\n",
    "from dg_maxwell import lagrange\n",
    "from dg_maxwell import wave_equation_2d as w2d\n",
    "from dg_maxwell import msh_parser\n",
    "from dg_maxwell import isoparam\n",
    "\n",
    "af.set_backend(params.backend)"
   ]
  },
  {
   "cell_type": "code",
   "execution_count": 2,
   "metadata": {},
   "outputs": [
    {
     "name": "stderr",
     "output_type": "stream",
     "text": [
      "/home/ubermensch/.local/anaconda3/lib/python3.6/site-packages/numpy/lib/polynomial.py:1193: FutureWarning: In the future extra properties will not be copied across when constructing one poly1d from another\n",
      "  other = poly1d(other)\n",
      "/home/ubermensch/.local/anaconda3/lib/python3.6/site-packages/numpy/lib/polynomial.py:1220: FutureWarning: In the future extra properties will not be copied across when constructing one poly1d from another\n",
      "  other = poly1d(other)\n"
     ]
    }
   ],
   "source": [
    "N_LGL = 8\n",
    "xi_LGL  = af.np_to_af_array(np.array(lagrange.LGL_points(N_LGL)))\n",
    "eta_LGL = af.np_to_af_array(np.array(lagrange.LGL_points(N_LGL)))\n",
    "\n",
    "Xi, Eta = utils.af_meshgrid(xi_LGL, eta_LGL)\n",
    "\n",
    "eta = af.tile(eta_LGL, N_LGL)\n",
    "xi = af.flat(af.transpose(af.tile(xi_LGL, 1, N_LGL)))\n",
    "\n",
    "_, L_p = lagrange.lagrange_polynomials(xi_LGL)\n",
    "_, L_q = lagrange.lagrange_polynomials(eta_LGL)\n",
    "\n",
    "L_p = af.np_to_af_array(L_p)\n",
    "L_q = af.np_to_af_array(L_q)"
   ]
  },
  {
   "cell_type": "code",
   "execution_count": 3,
   "metadata": {},
   "outputs": [],
   "source": [
    "dLp_dxi  = utils.polynomial_derivative(L_p)\n",
    "dLq_deta = utils.polynomial_derivative(L_q)"
   ]
  },
  {
   "cell_type": "code",
   "execution_count": 4,
   "metadata": {},
   "outputs": [
    {
     "name": "stdout",
     "output_type": "stream",
     "text": [
      "gmshTranslator: Initializing...\n",
      "gmshTranslator: Mesh has 49 nodes.\n",
      "gmshTranslator: Mesh has 25 elements.\n",
      "gmshTranslator: Processed 78 lines.\n",
      "gmshTranslator: There are 1 physical groups available: \n",
      "gmshTranslator:      > 0\n",
      "gmshTranslator: Parsing nodes\n",
      "gmshTranslator: Parsing elements\n",
      "gmshTranslator: No rules for elements... skipping elements.\n",
      "gmshTranslator: Parsing nodes\n",
      "gmshTranslator: No rules for nodes... skipping nodes.\n",
      "gmshTranslator: Parsing elements\n"
     ]
    }
   ],
   "source": [
    "nodes, elements = msh_parser.read_order_2_msh('read_and_plot_mesh/mesh/square.msh')"
   ]
  },
  {
   "cell_type": "code",
   "execution_count": 5,
   "metadata": {},
   "outputs": [
    {
     "name": "stdout",
     "output_type": "stream",
     "text": [
      "gmshTranslator: Ending\n"
     ]
    }
   ],
   "source": [
    "dxi_dx  = w2d.dxi_dx(nodes[elements[0]][:, 0], nodes[elements[0]][:, 1], xi, eta)\n",
    "dxi_dy  = w2d.dxi_dy(nodes[elements[0]][:, 0], nodes[elements[0]][:, 1], xi, eta)\n",
    "deta_dx = w2d.deta_dx(nodes[elements[0]][:, 0], nodes[elements[0]][:, 1], xi, eta)\n",
    "deta_dy = w2d.deta_dy(nodes[elements[0]][:, 0], nodes[elements[0]][:, 1], xi, eta)"
   ]
  },
  {
   "cell_type": "code",
   "execution_count": 6,
   "metadata": {},
   "outputs": [],
   "source": [
    "def F_xi(u):\n",
    "    '''\n",
    "    '''\n",
    "    dxi_dx  = w2d.dxi_dx(nodes[elements[0]][:, 0], nodes[elements[0]][:, 1], xi, eta)\n",
    "    dxi_dy  = w2d.dxi_dy(nodes[elements[0]][:, 0], nodes[elements[0]][:, 1], xi, eta)\n",
    "    \n",
    "    return w2d.F_x(u) * dxi_dx + w2d.F_y(u) * dxi_dy\n",
    "\n",
    "def F_eta(u):\n",
    "    '''\n",
    "    '''\n",
    "    deta_dx = w2d.deta_dx(nodes[elements[0]][:, 0], nodes[elements[0]][:, 1], xi, eta)\n",
    "    deta_dy = w2d.deta_dy(nodes[elements[0]][:, 0], nodes[elements[0]][:, 1], xi, eta)\n",
    "    \n",
    "    return w2d.F_x(u) * deta_dx + w2d.F_y(u) * deta_dy"
   ]
  },
  {
   "cell_type": "code",
   "execution_count": 7,
   "metadata": {},
   "outputs": [],
   "source": [
    "def g_dd(x_nodes, y_nodes, xi, eta):\n",
    "    '''\n",
    "    '''\n",
    "    ans00  =   (w2d.dx_dxi(x_nodes, xi, eta))**2 \\\n",
    "             + (w2d.dy_dxi(y_nodes, xi, eta))**2\n",
    "    ans11  =   (w2d.dx_deta(x_nodes, xi, eta))**2 \\\n",
    "             + (w2d.dy_deta(y_nodes, xi, eta))**2\n",
    "    \n",
    "    ans01  =  (w2d.dx_dxi(x_nodes, xi, eta))  \\\n",
    "            * (w2d.dx_deta(x_nodes, xi, eta)) \\\n",
    "            + (w2d.dy_dxi(y_nodes, xi, eta))  \\\n",
    "            * (w2d.dy_deta(y_nodes, xi, eta))\n",
    "    \n",
    "    ans =  [[ans00, ans01],\n",
    "            [ans01, ans11]\n",
    "           ]\n",
    "    \n",
    "    return ans\n",
    "\n",
    "\n",
    "def g_uu(x_nodes, y_nodes, xi, eta):\n",
    "    gCov = g_dd(x_nodes, y_nodes, xi, eta)\n",
    "    \n",
    "    \n",
    "    a = gCov[0][0]\n",
    "    b = gCov[0][1]\n",
    "    c = gCov[1][0]\n",
    "    d = gCov[1][1]\n",
    "    \n",
    "    det = (a*d - b*c)\n",
    "    \n",
    "    ans = [[d / det, -b / det],\n",
    "           [-c / det, a / det]]\n",
    "    \n",
    "    return ans\n",
    "\n",
    "\n",
    "def sqrtgDet(x_nodes, y_nodes, xi, eta):\n",
    "    '''\n",
    "    '''\n",
    "    gCov = g_dd(x_nodes, y_nodes, xi, eta)\n",
    "    \n",
    "    a = gCov[0][0]\n",
    "    b = gCov[0][1]\n",
    "    c = gCov[1][0]\n",
    "    d = gCov[1][1]\n",
    "    \n",
    "    return (a*d - b*c)**0.5\n"
   ]
  },
  {
   "cell_type": "code",
   "execution_count": 8,
   "metadata": {},
   "outputs": [],
   "source": [
    "g_ab = g_uu(nodes[elements[0]][:, 0], nodes[elements[0]][:, 1], xi, eta)"
   ]
  },
  {
   "cell_type": "code",
   "execution_count": 9,
   "metadata": {},
   "outputs": [],
   "source": [
    "x = []\n",
    "y = []\n",
    "\n",
    "X = []\n",
    "Y = []\n",
    "\n",
    "u_init = []\n",
    "u_init_mesh = []\n",
    "\n",
    "\n",
    "for element in elements:\n",
    "    x.append(af.np_to_af_array(isoparam.isoparam_x_2D(nodes[element][:, 0], np.array(Xi), np.array(Eta))))\n",
    "    y.append(af.np_to_af_array(isoparam.isoparam_x_2D(nodes[element][:, 1], np.array(Xi), np.array(Eta))))\n",
    "\n",
    "    X.append(af.np_to_af_array(isoparam.isoparam_x_2D(nodes[element][:, 0], np.array(Xi), np.array(Eta))))\n",
    "    Y.append(af.np_to_af_array(isoparam.isoparam_x_2D(nodes[element][:, 1], np.array(Xi), np.array(Eta))))\n",
    "\n",
    "    x[-1] = af.moddims(x[-1], d0 = N_LGL * N_LGL, d1 = 1)\n",
    "    y[-1] = af.moddims(y[-1], d0 = N_LGL * N_LGL, d1 = 1)\n",
    "\n",
    "    u_init.append(np.e ** (-(x[-1]**2 + y[-1]**2) / 0.4**2))\n",
    "    u_init_mesh.append(af.moddims(u_init[-1], d0 = N_LGL, d1 = N_LGL))"
   ]
  },
  {
   "cell_type": "code",
   "execution_count": 10,
   "metadata": {},
   "outputs": [
    {
     "name": "stderr",
     "output_type": "stream",
     "text": [
      "/home/ubermensch/.local/anaconda3/lib/python3.6/site-packages/matplotlib/cbook/deprecation.py:106: MatplotlibDeprecationWarning: Adding an axes using the same arguments as a previous axes currently reuses the earlier instance.  In a future version, a new instance will always be created and returned.  Meanwhile, this warning can be suppressed, and the future behavior ensured, by passing a unique label to each axes instance.\n",
      "  warnings.warn(message, mplDeprecation, stacklevel=1)\n"
     ]
    },
    {
     "data": {
      "image/png": "[encoded data removed]",
      "text/plain": [
       "<matplotlib.figure.Figure at 0x7f114cb824e0>"
      ]
     },
     "metadata": {},
     "output_type": "display_data"
    }
   ],
   "source": [
    "# fig = plt.figure()\n",
    "# ax = fig.add_subplot(111, projection='3d')\n",
    "color_levels = np.linspace(0., 1., 100)\n",
    "\n",
    "for idx in np.arange(len(u_init_mesh)):\n",
    "#     ax.plot_surface(np.array(X[idx]), np.array(Y[idx]), np.array(u_init_mesh[idx]))\n",
    "    plt.contourf(np.array(X[idx]), np.array(Y[idx]), np.array(u_init_mesh[idx]),\n",
    "                 200, levels = color_levels, cmap = 'jet')\n",
    "\n",
    "plt.axes().set_aspect('equal')\n",
    "plt.xlabel(r\"$x$\")\n",
    "plt.ylabel(r\"$y$\")\n",
    "plt.colorbar()\n",
    "\n",
    "# plt.savefig('u_init.png')\n",
    "plt.show()"
   ]
  },
  {
   "cell_type": "code",
   "execution_count": 11,
   "metadata": {},
   "outputs": [],
   "source": [
    "L_p_array = af.moddims(af.tile(af.transpose(af.reorder(L_p, d0 = 0, d1 = 2, d2 = 1)),\n",
    "                               d0 = N_LGL), d0 = N_LGL * N_LGL, d1 = 1, d2 = N_LGL)\n",
    "L_p_array = af.reorder(L_p_array, d0 = 0, d1 = 2, d2 = 1)\n",
    "\n",
    "L_q_array = af.tile(L_p, d0 = N_LGL)\n",
    "\n",
    "dLp_dxi_array = af.moddims(af.tile(af.transpose(af.reorder(dLp_dxi, d0 = 0, d1 = 2, d2 = 1)),\n",
    "                               d0 = N_LGL), d0 = N_LGL * N_LGL, d1 = 1, d2 = N_LGL - 1)\n",
    "dLp_dxi_array = af.reorder(dLp_dxi_array, d0 = 0, d1 = 2, d2 = 1)\n",
    "\n",
    "dLq_deta_array = af.tile(dLq_deta, d0 = N_LGL)"
   ]
  },
  {
   "cell_type": "code",
   "execution_count": 12,
   "metadata": {},
   "outputs": [],
   "source": [
    "L_p_LGL      = utils.polyval_1d(L_p_array,      xi)\n",
    "L_q_LGL      = utils.polyval_1d(L_q_array,      eta)\n",
    "dLp_dxi_LGL  = utils.polyval_1d(dLp_dxi_array , xi)\n",
    "dLq_deta_LGL = utils.polyval_1d(dLq_deta_array, eta)"
   ]
  },
  {
   "cell_type": "code",
   "execution_count": 13,
   "metadata": {},
   "outputs": [],
   "source": [
    "F_xi_LGL  = F_xi(u_init[0])\n",
    "F_eta_LGL = F_eta(u_init[0])"
   ]
  },
  {
   "cell_type": "code",
   "execution_count": 14,
   "metadata": {},
   "outputs": [
    {
     "name": "stdout",
     "output_type": "stream",
     "text": [
      "(64, 64)\n",
      "(64, 64)\n",
      "(64, 64)\n",
      "(64, 64)\n"
     ]
    }
   ],
   "source": [
    "print(af.tile(af.transpose(g_ab[0][0]), d0 = N_LGL * N_LGL).shape)\n",
    "print(L_p_LGL.shape)\n",
    "print(dLq_deta_LGL.shape)\n",
    "print(af.tile(af.transpose(F_xi_LGL), d0 = N_LGL * N_LGL).shape)"
   ]
  },
  {
   "cell_type": "code",
   "execution_count": 15,
   "metadata": {},
   "outputs": [
    {
     "name": "stdout",
     "output_type": "stream",
     "text": [
      "0\n",
      "1\n",
      "2\n",
      "3\n",
      "4\n",
      "5\n",
      "6\n",
      "7\n",
      "8\n"
     ]
    }
   ],
   "source": [
    "integrals = []\n",
    "for idx in np.arange(len(u_init)):\n",
    "    F_xi_LGL  = F_xi(u_init[idx])\n",
    "    F_eta_LGL = F_eta(u_init[idx])\n",
    "\n",
    "    integrand_00 = af.tile(af.transpose(g_ab[0][0]), d0 = N_LGL * N_LGL) * L_q_LGL * dLp_dxi_LGL * af.tile(af.transpose(F_xi_LGL), d0 = N_LGL * N_LGL)\n",
    "    integrand_01 = af.tile(af.transpose(g_ab[0][1]), d0 = N_LGL * N_LGL) * L_p_LGL * dLq_deta_LGL * af.tile(af.transpose(F_eta_LGL), d0 = N_LGL * N_LGL)\n",
    "    integrand_10 = af.tile(af.transpose(g_ab[1][0]), d0 = N_LGL * N_LGL) * L_q_LGL * dLp_dxi_LGL * af.tile(af.transpose(F_xi_LGL), d0 = N_LGL * N_LGL)\n",
    "    integrand_11 = af.tile(af.transpose(g_ab[1][1]), d0 = N_LGL * N_LGL) * L_p_LGL * dLq_deta_LGL * af.tile(af.transpose(F_eta_LGL), d0 = N_LGL * N_LGL)\n",
    "\n",
    "    integrand = integrand_00 + integrand_01 + integrand_10 + integrand_11\n",
    "    integrand = af.reorder(integrand[0], d0 = 1, d1 = 2, d2 = 0)\n",
    "    integrals.append(integrand * utils.integrate_2d(L_p_array, L_q_array, order = 9))\n",
    "    integrals[-1] = af.moddims(integrals[-1], d0 = N_LGL, d1 = N_LGL)\n",
    "    print(idx)\n",
    "    "
   ]
  },
  {
   "cell_type": "code",
   "execution_count": 16,
   "metadata": {},
   "outputs": [
    {
     "name": "stdout",
     "output_type": "stream",
     "text": [
      "-3.755294944455812e-05\n",
      "-0.00971384511046701\n",
      "-3.7552949444563425e-05\n",
      "-0.009713845110465646\n",
      "-2.512686439473278\n",
      "-0.009713845110578791\n",
      "-3.755294944499183e-05\n",
      "-0.00971384511057742\n",
      "-3.7552949444997065e-05\n"
     ]
    }
   ],
   "source": [
    "for integral in integrals:\n",
    "    print(af.max(integral))"
   ]
  },
  {
   "cell_type": "code",
   "execution_count": 17,
   "metadata": {},
   "outputs": [
    {
     "ename": "NameError",
     "evalue": "name 'integrand_test' is not defined",
     "output_type": "error",
     "traceback": [
      "\u001b[0;31m---------------------------------------------------------------------------\u001b[0m",
      "\u001b[0;31mNameError\u001b[0m                                 Traceback (most recent call last)",
      "\u001b[0;32m<ipython-input-17-b9844b199b13>\u001b[0m in \u001b[0;36m<module>\u001b[0;34m()\u001b[0m\n\u001b[0;32m----> 1\u001b[0;31m \u001b[0mterm_00\u001b[0m \u001b[0;34m=\u001b[0m \u001b[0mintegrand_test\u001b[0m \u001b[0;34m*\u001b[0m \u001b[0mutils\u001b[0m\u001b[0;34m.\u001b[0m\u001b[0mintegrate_2d\u001b[0m\u001b[0;34m(\u001b[0m\u001b[0mL_p_array\u001b[0m\u001b[0;34m,\u001b[0m \u001b[0mL_q_array\u001b[0m\u001b[0;34m,\u001b[0m \u001b[0morder\u001b[0m \u001b[0;34m=\u001b[0m \u001b[0;36m9\u001b[0m\u001b[0;34m)\u001b[0m\u001b[0;34m\u001b[0m\u001b[0m\n\u001b[0m\u001b[1;32m      2\u001b[0m \u001b[0mterm_00\u001b[0m \u001b[0;34m=\u001b[0m \u001b[0maf\u001b[0m\u001b[0;34m.\u001b[0m\u001b[0mmoddims\u001b[0m\u001b[0;34m(\u001b[0m\u001b[0mterm_00\u001b[0m\u001b[0;34m,\u001b[0m \u001b[0md0\u001b[0m \u001b[0;34m=\u001b[0m \u001b[0mN_LGL\u001b[0m\u001b[0;34m,\u001b[0m \u001b[0md1\u001b[0m \u001b[0;34m=\u001b[0m \u001b[0mN_LGL\u001b[0m\u001b[0;34m)\u001b[0m\u001b[0;34m\u001b[0m\u001b[0m\n",
      "\u001b[0;31mNameError\u001b[0m: name 'integrand_test' is not defined"
     ]
    }
   ],
   "source": [
    "term_00 = integrand_test * utils.integrate_2d(L_p_array, L_q_array, order = 9)\n",
    "term_00 = af.moddims(term_00, d0 = N_LGL, d1 = N_LGL)"
   ]
  },
  {
   "cell_type": "code",
   "execution_count": 24,
   "metadata": {},
   "outputs": [
    {
     "data": {
      "text/plain": [
       "True"
      ]
     },
     "execution_count": 24,
     "metadata": {},
     "output_type": "execute_result"
    }
   ],
   "source": [
    "0 > (-np.inf)"
   ]
  },
  {
   "cell_type": "code",
   "execution_count": 33,
   "metadata": {},
   "outputs": [
    {
     "name": "stdout",
     "output_type": "stream",
     "text": [
      "-1264.6751278587735\n",
      "-3.755294944455812e-05\n"
     ]
    }
   ],
   "source": [
    "max_integral = []\n",
    "min_integral = []\n",
    "for integral in integrals:\n",
    "    max_integral.append(af.max(integral))\n",
    "    min_integral.append(af.min(integral))\n",
    "\n",
    "print(min(min_integral))\n",
    "print(max(max_integral))\n",
    "color_levels = np.linspace(min(min_integral), max(max_integral), 100)"
   ]
  },
  {
   "cell_type": "code",
   "execution_count": 36,
   "metadata": {},
   "outputs": [
    {
     "name": "stderr",
     "output_type": "stream",
     "text": [
      "/home/ubermensch/.local/anaconda3/lib/python3.6/site-packages/matplotlib/cbook/deprecation.py:106: MatplotlibDeprecationWarning: Adding an axes using the same arguments as a previous axes currently reuses the earlier instance.  In a future version, a new instance will always be created and returned.  Meanwhile, this warning can be suppressed, and the future behavior ensured, by passing a unique label to each axes instance.\n",
      "  warnings.warn(message, mplDeprecation, stacklevel=1)\n"
     ]
    },
    {
     "data": {
      "image/png": "[encoded data removed]",
      "text/plain": [
       "<matplotlib.figure.Figure at 0x7f10fc6dc710>"
      ]
     },
     "metadata": {},
     "output_type": "display_data"
    }
   ],
   "source": [
    "for idx in np.arange(len(integrals)):\n",
    "    plt.contourf(np.array(X[idx]), np.array(Y[idx]), np.array(integrals[idx]), 200, levels = color_levels, cmap = 'jet')\n",
    "\n",
    "plt.title(r'Volume Integral')\n",
    "plt.xlabel(r'$x$')\n",
    "plt.ylabel(r'$y$')\n",
    "plt.colorbar()\n",
    "plt.axes().set_aspect('equal')\n",
    "\n",
    "plt.savefig('volume_integral.png')\n",
    "plt.show()"
   ]
  },
  {
   "cell_type": "code",
   "execution_count": 39,
   "metadata": {},
   "outputs": [
    {
     "name": "stdout",
     "output_type": "stream",
     "text": [
      "arrayfire.Array()\n",
      "Type: double\n",
      "\n",
      "[8 8 1 1]\n",
      "   -3.3516     3.3516     3.8672    -3.8672    -1.0547     1.0547     0.0391    -0.0391 \n",
      "    8.1407    -7.0966   -11.3475     9.8921     3.3316    -2.9043    -0.1249     0.1088 \n",
      "  -10.3581     6.1289    18.6834   -11.0549    -8.6700     5.1301     0.3448    -0.2040 \n",
      "   11.3898    -2.3839   -24.0330     5.0301    15.6735    -3.2805    -3.0304     0.6343 \n",
      "  -11.3898    -2.3839    24.0330     5.0301   -15.6735    -3.2805     3.0304     0.6343 \n",
      "   10.3581     6.1289   -18.6834   -11.0549     8.6700     5.1301    -0.3448    -0.2040 \n",
      "   -8.1407    -7.0966    11.3475     9.8921    -3.3316    -2.9043     0.1249     0.1088 \n",
      "    3.3516     3.3516    -3.8672    -3.8672     1.0547     1.0547    -0.0391    -0.0391 \n",
      "\n",
      "\n"
     ]
    }
   ],
   "source": [
    "af.tile(af.transpose(L_p))"
   ]
  },
  {
   "cell_type": "code",
   "execution_count": 26,
   "metadata": {},
   "outputs": [
    {
     "name": "stdout",
     "output_type": "stream",
     "text": [
      "arrayfire.Array()\n",
      "Type: long int\n",
      "\n",
      "[4 4 1 1]\n",
      "         0          1          2          3 \n",
      "         0          1          2          3 \n",
      "         0          1          2          3 \n",
      "         0          1          2          3 \n",
      "\n",
      "\n",
      "arrayfire.Array()\n",
      "Type: long int\n",
      "\n",
      "[4 4 1 1]\n",
      "         0          0          0          0 \n",
      "         1          1          1          1 \n",
      "         2          2          2          2 \n",
      "         3          3          3          3 \n",
      "\n",
      "\n"
     ]
    }
   ],
   "source": [
    "foo = np.arange(4)\n",
    "bar = np.arange(4)\n",
    "\n",
    "foo, bar = np.meshgrid(foo, bar)\n",
    "foo = af.np_to_af_array(foo)\n",
    "bar = af.np_to_af_array(bar)\n",
    "\n",
    "foo = af.moddims(foo, d0 = 4 * 4, d1 = 1)\n",
    "bar = af.moddims(bar, d0 = 4 * 4, d1 = 1)\n",
    "\n",
    "# print(foo)\n",
    "# print(bar)\n",
    "\n",
    "print(af.moddims(foo, d0 = 4, d1 = 4))\n",
    "print(af.moddims(bar, d0 = 4, d1 = 4))\n"
   ]
  },
  {
   "cell_type": "code",
   "execution_count": null,
   "metadata": {},
   "outputs": [],
   "source": []
  }
 ],
 "metadata": {
  "kernelspec": {
   "display_name": "Python 3",
   "language": "python",
   "name": "python3"
  },
  "language_info": {
   "codemirror_mode": {
    "name": "ipython",
    "version": 3
   },
   "file_extension": ".py",
   "mimetype": "text/x-python",
   "name": "python",
   "nbconvert_exporter": "python",
   "pygments_lexer": "ipython3",
   "version": "3.6.3"
  }
 },
 "nbformat": 4,
 "nbformat_minor": 2
}
