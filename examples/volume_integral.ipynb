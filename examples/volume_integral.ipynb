{
 "cells": [
  {
   "cell_type": "code",
   "execution_count": 1,
   "metadata": {},
   "outputs": [
    {
     "name": "stdout",
     "output_type": "stream",
     "text": [
      "gmshtranslator friendly reminder: rules and actions prototypes\n",
      "\n",
      "\n",
      "def node_condition(tag,x,y,z,physgroups): \n",
      "def node_action(tag,x,y,z):\n",
      "def element_condition(eletag,eletype,physgrp,nodes):\n",
      "def element_action(eletag,eletype,physgrp,nodes):\n"
     ]
    },
    {
     "name": "stderr",
     "output_type": "stream",
     "text": [
      "/home/ubermensch/.local/anaconda3/lib/python3.6/site-packages/numpy/lib/polynomial.py:1193: FutureWarning: In the future extra properties will not be copied across when constructing one poly1d from another\n",
      "  other = poly1d(other)\n",
      "/home/ubermensch/.local/anaconda3/lib/python3.6/site-packages/numpy/lib/polynomial.py:1220: FutureWarning: In the future extra properties will not be copied across when constructing one poly1d from another\n",
      "  other = poly1d(other)\n"
     ]
    }
   ],
   "source": [
    "import os\n",
    "import sys\n",
    "sys.path.insert(0, os.path.abspath('../'))\n",
    "\n",
    "import numpy as np\n",
    "from matplotlib import pyplot as plt\n",
    "import arrayfire as af\n",
    "\n",
    "from dg_maxwell import params\n",
    "from dg_maxwell import utils\n",
    "from dg_maxwell import lagrange\n",
    "from dg_maxwell import wave_equation_2d as w2d\n",
    "from dg_maxwell import msh_parser\n",
    "\n",
    "af.set_backend(params.backend)"
   ]
  },
  {
   "cell_type": "code",
   "execution_count": 29,
   "metadata": {},
   "outputs": [
    {
     "name": "stderr",
     "output_type": "stream",
     "text": [
      "/home/ubermensch/.local/anaconda3/lib/python3.6/site-packages/numpy/lib/polynomial.py:1193: FutureWarning: In the future extra properties will not be copied across when constructing one poly1d from another\n",
      "  other = poly1d(other)\n",
      "/home/ubermensch/.local/anaconda3/lib/python3.6/site-packages/numpy/lib/polynomial.py:1220: FutureWarning: In the future extra properties will not be copied across when constructing one poly1d from another\n",
      "  other = poly1d(other)\n"
     ]
    }
   ],
   "source": [
    "N_LGL = 8\n",
    "xi_LGL  = af.np_to_af_array(np.array(lagrange.LGL_points(N_LGL)))\n",
    "eta_LGL = af.np_to_af_array(np.array(lagrange.LGL_points(N_LGL)))\n",
    "\n",
    "_, L_p = lagrange.lagrange_polynomials(xi_LGL)\n",
    "_, L_q = lagrange.lagrange_polynomials(eta_LGL)\n",
    "\n",
    "L_p = af.np_to_af_array(L_p)\n",
    "L_q = af.np_to_af_array(L_q)"
   ]
  },
  {
   "cell_type": "code",
   "execution_count": 3,
   "metadata": {},
   "outputs": [
    {
     "name": "stdout",
     "output_type": "stream",
     "text": [
      "gmshTranslator: Initializing...\n",
      "gmshTranslator: Mesh has 49 nodes.\n",
      "gmshTranslator: Mesh has 25 elements.\n",
      "gmshTranslator: Processed 78 lines.\n",
      "gmshTranslator: There are 1 physical groups available: \n",
      "gmshTranslator:      > 0\n",
      "gmshTranslator: Parsing nodes\n",
      "gmshTranslator: Parsing elements\n",
      "gmshTranslator: No rules for elements... skipping elements.\n",
      "gmshTranslator: Parsing nodes\n",
      "gmshTranslator: No rules for nodes... skipping nodes.\n",
      "gmshTranslator: Parsing elements\n"
     ]
    }
   ],
   "source": [
    "nodes, elements = msh_parser.read_order_2_msh('read_and_plot_mesh/mesh/square.msh')"
   ]
  },
  {
   "cell_type": "code",
   "execution_count": 16,
   "metadata": {},
   "outputs": [
    {
     "name": "stderr",
     "output_type": "stream",
     "text": [
      "/home/ubermensch/.local/anaconda3/lib/python3.6/site-packages/matplotlib/cbook/deprecation.py:106: MatplotlibDeprecationWarning: Adding an axes using the same arguments as a previous axes currently reuses the earlier instance.  In a future version, a new instance will always be created and returned.  Meanwhile, this warning can be suppressed, and the future behavior ensured, by passing a unique label to each axes instance.\n",
      "  warnings.warn(message, mplDeprecation, stacklevel=1)\n"
     ]
    },
    {
     "data": {
      "image/png": "[encoded data removed]",
      "text/plain": [
       "<matplotlib.figure.Figure at 0x7f1a674096a0>"
      ]
     },
     "metadata": {},
     "output_type": "display_data"
    }
   ],
   "source": [
    "axes_handler = plt.axes()\n",
    "\n",
    "msh_parser.plot_mesh_grid(nodes, elements, np.array(xi_LGL), np.array(eta_LGL), axes_handler)\n",
    "\n",
    "plt.title(r'Grid plot of a mesh for $N_{LGL} = 8$.'\n",
    "          '\\n Red lines are mesh grid, and \\n'\n",
    "          'blue lines are element boundaries.')\n",
    "plt.xlabel(r'$x$')\n",
    "plt.ylabel(r'$y$')\n",
    "\n",
    "plt.xlim(-1.1, 1.1)\n",
    "plt.ylim(-1.1, 1.1)\n",
    "\n",
    "plt.show()"
   ]
  },
  {
   "cell_type": "code",
   "execution_count": 24,
   "metadata": {},
   "outputs": [],
   "source": [
    "eta = af.tile(eta_LGL, N_LGL)\n",
    "xi = af.flat(af.transpose(af.tile(xi_LGL, 1, N_LGL)))\n",
    "\n",
    "dxi_dx  = 1 / w2d.dx_dxi(nodes[elements[0]][:, 0], xi, eta)\n",
    "dxi_dy  = 1 / w2d.dy_dxi(nodes[elements[0]][:, 1], xi, eta)\n",
    "deta_dx = 1 / w2d.dx_deta(nodes[elements[0]][:, 0], xi, eta)\n",
    "deta_dy = 1 / w2d.dy_deta(nodes[elements[0]][:, 1], xi, eta)"
   ]
  },
  {
   "cell_type": "code",
   "execution_count": 26,
   "metadata": {},
   "outputs": [],
   "source": [
    "def F_xi(u):\n",
    "    '''\n",
    "    '''\n",
    "    dxi_dx  = 1 / w2d.dx_dxi(nodes[elements[0]][:, 0], xi, eta)\n",
    "    dxi_dy  = 1 / w2d.dy_dxi(nodes[elements[0]][:, 1], xi, eta)\n",
    "    \n",
    "    return w2d.F_x(u) * dxi_dx + w2d.F_y(u) * dxi_dy\n",
    "\n",
    "def F_eta(u):\n",
    "    '''\n",
    "    '''\n",
    "    deta_dx = 1 / w2d.dx_deta(nodes[elements[0]][:, 0], xi, eta)\n",
    "    deta_dy = 1 / w2d.dy_deta(nodes[elements[0]][:, 1], xi, eta)    \n",
    "    \n",
    "    return w2d.F_x(u) * deta_dx + w2d.F_y(u) * deta_dy"
   ]
  },
  {
   "cell_type": "code",
   "execution_count": 32,
   "metadata": {},
   "outputs": [],
   "source": [
    "dLp_dxi  = utils.polynomial_derivative(L_p)\n",
    "dLq_deta = utils.polynomial_derivative(L_q)"
   ]
  },
  {
   "cell_type": "code",
   "execution_count": null,
   "metadata": {},
   "outputs": [],
   "source": [
    "nodes\n",
    "elements\n"
   ]
  },
  {
   "cell_type": "code",
   "execution_count": null,
   "metadata": {},
   "outputs": [],
   "source": [
    "def g_dd(x_nodes, y_nodes, xi, eta):\n",
    "    '''\n",
    "    '''\n",
    "    ans00  =   (dx_dxi(x_nodes, xi, eta))**2 \\\n",
    "             + (dy_dxi(y_nodes, xi, eta))**2\n",
    "    ans11  =   (dx_deta(x_nodes, xi, eta))**2 \\\n",
    "             + (dy_deta(y_nodes, xi, eta))**2\n",
    "    \n",
    "    ans01  =  (dx_dxi(x_nodes, xi, eta))  \\\n",
    "            * (dx_deta(x_nodes, xi, eta)) \\\n",
    "            + (dy_dxi(y_nodes, xi, eta))  \\\n",
    "            * (dy_deta(y_nodes, xi, eta))\n",
    "    \n",
    "    ans =  [[ans00, ans01],\n",
    "            [ans01, ans11]\n",
    "           ]\n",
    "    \n",
    "    return np.array(ans)\n",
    "\n",
    "\n",
    "def g_uu(x_nodes, y_nodes, xi, eta):\n",
    "    gCov = g_dd(x_nodes, y_nodes, xi, eta)\n",
    "    \n",
    "    \n",
    "    a = gCov[0][0]\n",
    "    b = gCov[0][1]\n",
    "    c = gCov[1][0]\n",
    "    d = gCov[1][1]\n",
    "    \n",
    "    det = (a*d - b*c)\n",
    "    \n",
    "    ans = np.array([[d, -b],\n",
    "                    [-c, a]])\n",
    "    \n",
    "    return np.array(ans)/det\n",
    "\n",
    "\n",
    "def sqrtgDet(x_nodes, y_nodes, xi, eta):\n",
    "    '''\n",
    "    '''\n",
    "    gCov = g_dd(x_nodes, y_nodes, xi, eta)\n",
    "    \n",
    "    a = gCov[0][0]\n",
    "    b = gCov[0][1]\n",
    "    c = gCov[1][0]\n",
    "    d = gCov[1][1]\n",
    "    \n",
    "    return (a*d - b*c)**0.5\n"
   ]
  }
 ],
 "metadata": {
  "kernelspec": {
   "display_name": "Python 3",
   "language": "python",
   "name": "python3"
  },
  "language_info": {
   "codemirror_mode": {
    "name": "ipython",
    "version": 3
   },
   "file_extension": ".py",
   "mimetype": "text/x-python",
   "name": "python",
   "nbconvert_exporter": "python",
   "pygments_lexer": "ipython3",
   "version": "3.6.3"
  }
 },
 "nbformat": 4,
 "nbformat_minor": 2
}
