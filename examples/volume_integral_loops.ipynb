{
 "cells": [
  {
   "cell_type": "code",
   "execution_count": 1,
   "metadata": {},
   "outputs": [
    {
     "name": "stdout",
     "output_type": "stream",
     "text": [
      "gmshtranslator friendly reminder: rules and actions prototypes\n",
      "\n",
      "\n",
      "def node_condition(tag,x,y,z,physgroups): \n",
      "def node_action(tag,x,y,z):\n",
      "def element_condition(eletag,eletype,physgrp,nodes):\n",
      "def element_action(eletag,eletype,physgrp,nodes):\n"
     ]
    },
    {
     "name": "stderr",
     "output_type": "stream",
     "text": [
      "/home/ubermensch/.local/anaconda3/lib/python3.6/site-packages/numpy/lib/polynomial.py:1193: FutureWarning: In the future extra properties will not be copied across when constructing one poly1d from another\n",
      "  other = poly1d(other)\n",
      "/home/ubermensch/.local/anaconda3/lib/python3.6/site-packages/numpy/lib/polynomial.py:1220: FutureWarning: In the future extra properties will not be copied across when constructing one poly1d from another\n",
      "  other = poly1d(other)\n"
     ]
    }
   ],
   "source": [
    "import os\n",
    "import sys\n",
    "sys.path.insert(0, os.path.abspath('../'))\n",
    "\n",
    "import numpy as np\n",
    "from matplotlib import pyplot as plt\n",
    "from mpl_toolkits.mplot3d import Axes3D as ax\n",
    "import arrayfire as af\n",
    "\n",
    "from dg_maxwell import params\n",
    "from dg_maxwell import utils\n",
    "from dg_maxwell import lagrange\n",
    "from dg_maxwell import wave_equation_2d as w2d\n",
    "from dg_maxwell import msh_parser\n",
    "from dg_maxwell import isoparam\n",
    "\n",
    "af.set_backend(params.backend)"
   ]
  },
  {
   "cell_type": "code",
   "execution_count": 3,
   "metadata": {},
   "outputs": [
    {
     "name": "stdout",
     "output_type": "stream",
     "text": [
      "gmshTranslator: Initializing...\n",
      "gmshTranslator: Mesh has 9 nodes.\n",
      "gmshTranslator: Mesh has 9 elements.\n",
      "gmshTranslator: Processed 22 lines.\n",
      "gmshTranslator: There are 1 physical groups available: \n",
      "gmshTranslator:      > 0\n",
      "gmshTranslator: Parsing nodes\n",
      "gmshTranslator: Parsing elements\n",
      "gmshTranslator: No rules for elements... skipping elements.\n",
      "gmshTranslator: Parsing nodes\n",
      "gmshTranslator: No rules for nodes... skipping nodes.\n",
      "gmshTranslator: Parsing elements\n"
     ]
    }
   ],
   "source": [
    "nodes, elements = msh_parser.read_order_2_msh('read_and_plot_mesh/mesh/square_1.msh')"
   ]
  },
  {
   "cell_type": "code",
   "execution_count": 28,
   "metadata": {},
   "outputs": [
    {
     "name": "stderr",
     "output_type": "stream",
     "text": [
      "/home/ubermensch/.local/anaconda3/lib/python3.6/site-packages/numpy/lib/polynomial.py:1193: FutureWarning: In the future extra properties will not be copied across when constructing one poly1d from another\n",
      "  other = poly1d(other)\n",
      "/home/ubermensch/.local/anaconda3/lib/python3.6/site-packages/numpy/lib/polynomial.py:1220: FutureWarning: In the future extra properties will not be copied across when constructing one poly1d from another\n",
      "  other = poly1d(other)\n"
     ]
    }
   ],
   "source": [
    "N_LGL   = 8\n",
    "\n",
    "xi_LGL  = lagrange.LGL_points(N_LGL)\n",
    "eta_LGL = lagrange.LGL_points(N_LGL)\n",
    "\n",
    "xi_tile  = af.transpose(af.tile(xi_LGL, 1, N_LGL))\n",
    "eta_tile = af.tile(eta_LGL, 1, N_LGL) \n",
    "\n",
    "xi_i    = af.flat(af.tile(af.transpose(xi_LGL), N_LGL))\n",
    "eta_j   = af.tile(eta_LGL, N_LGL)\n",
    "\n",
    "L_p_coeffs = af.np_to_af_array(lagrange.lagrange_polynomials(xi_LGL)[1])\n",
    "L_q_coeffs = af.np_to_af_array(lagrange.lagrange_polynomials(eta_LGL)[1])\n",
    "\n",
    "dLp_dxi_coeffs  = utils.polynomial_derivative(L_p_coeffs)\n",
    "dLq_deta_coeffs = utils.polynomial_derivative(L_q_coeffs)"
   ]
  },
  {
   "cell_type": "code",
   "execution_count": 6,
   "metadata": {
    "collapsed": true
   },
   "outputs": [],
   "source": [
    "dxi_dx  = w2d.dxi_dx(nodes[elements[0]][:, 0], nodes[elements[0]][:, 1], xi_i, eta_j)\n",
    "dxi_dy  = w2d.dxi_dy(nodes[elements[0]][:, 0], nodes[elements[0]][:, 1], xi_i, eta_j)\n",
    "deta_dx = w2d.deta_dx(nodes[elements[0]][:, 0], nodes[elements[0]][:, 1], xi_i, eta_j)\n",
    "deta_dy = w2d.deta_dy(nodes[elements[0]][:, 0], nodes[elements[0]][:, 1], xi_i, eta_j)"
   ]
  },
  {
   "cell_type": "code",
   "execution_count": 7,
   "metadata": {
    "collapsed": true
   },
   "outputs": [],
   "source": [
    "def F_xi(u):\n",
    "    '''\n",
    "    '''\n",
    "    F_xi_u = w2d.F_x(u) * dxi_dx + w2d.F_y(u) * dxi_dy\n",
    "\n",
    "    return F_xi_u\n",
    "\n",
    "def F_eta(u):\n",
    "    '''\n",
    "    '''\n",
    "    F_eta_u = w2d.F_x(u) * deta_dx + w2d.F_y(u) * deta_dy\n",
    "    return F_eta_u"
   ]
  },
  {
   "cell_type": "code",
   "execution_count": 8,
   "metadata": {},
   "outputs": [],
   "source": [
    "def g_dd(x_nodes, y_nodes, xi, eta):\n",
    "    '''\n",
    "    '''\n",
    "    ans00  =   (w2d.dx_dxi(x_nodes, xi, eta))**2 \\\n",
    "             + (w2d.dy_dxi(y_nodes, xi, eta))**2\n",
    "    ans11  =   (w2d.dx_deta(x_nodes, xi, eta))**2 \\\n",
    "             + (w2d.dy_deta(y_nodes, xi, eta))**2\n",
    "    \n",
    "    ans01  =  (w2d.dx_dxi(x_nodes, xi, eta))  \\\n",
    "            * (w2d.dx_deta(x_nodes, xi, eta)) \\\n",
    "            + (w2d.dy_dxi(y_nodes, xi, eta))  \\\n",
    "            * (w2d.dy_deta(y_nodes, xi, eta))\n",
    "    \n",
    "    ans =  [[ans00, ans01],\n",
    "            [ans01, ans11]\n",
    "           ]\n",
    "    \n",
    "    return ans\n",
    "\n",
    "\n",
    "def g_uu(x_nodes, y_nodes, xi, eta):\n",
    "    gCov = g_dd(x_nodes, y_nodes, xi, eta)\n",
    "    \n",
    "    \n",
    "    a = gCov[0][0]\n",
    "    b = gCov[0][1]\n",
    "    c = gCov[1][0]\n",
    "    d = gCov[1][1]\n",
    "    \n",
    "    det = (a*d - b*c)\n",
    "    \n",
    "    ans = [[d / det, -b / det],\n",
    "           [-c / det, a / det]]\n",
    "    \n",
    "    return ans"
   ]
  },
  {
   "cell_type": "code",
   "execution_count": 9,
   "metadata": {
    "collapsed": true
   },
   "outputs": [],
   "source": [
    "g_ab = g_uu(nodes[elements[0]][:, 0], nodes[elements[0]][:, 1], xi_i, eta_j)"
   ]
  },
  {
   "cell_type": "code",
   "execution_count": 10,
   "metadata": {
    "collapsed": true
   },
   "outputs": [],
   "source": [
    "u_ij = np.e ** (- (xi_i**2) / (0.4 ** 2))\n",
    "\n",
    "u_ij_tile = af.moddims(u_ij, N_LGL, N_LGL)"
   ]
  },
  {
   "cell_type": "code",
   "execution_count": 11,
   "metadata": {
    "scrolled": true
   },
   "outputs": [
    {
     "data": {
      "image/png": "[encoded data removed]",
      "text/plain": [
       "<matplotlib.figure.Figure at 0x7f52b0cad940>"
      ]
     },
     "metadata": {},
     "output_type": "display_data"
    }
   ],
   "source": [
    "color_levels = np.linspace(0., 1., 100)\n",
    "plt.contourf(np.array(xi_tile), np.array(eta_tile), np.array(u_ij_tile),200, levels = color_levels, cmap = 'jet')\n",
    "plt.xlabel(r\"$x$\")\n",
    "plt.ylabel(r\"$y$\")\n",
    "plt.colorbar()\n",
    "plt.show()"
   ]
  },
  {
   "cell_type": "code",
   "execution_count": 12,
   "metadata": {},
   "outputs": [
    {
     "name": "stderr",
     "output_type": "stream",
     "text": [
      "/home/ubermensch/.local/anaconda3/lib/python3.6/site-packages/numpy/lib/polynomial.py:1193: FutureWarning: In the future extra properties will not be copied across when constructing one poly1d from another\n",
      "  other = poly1d(other)\n",
      "/home/ubermensch/.local/anaconda3/lib/python3.6/site-packages/numpy/lib/polynomial.py:1220: FutureWarning: In the future extra properties will not be copied across when constructing one poly1d from another\n",
      "  other = poly1d(other)\n"
     ]
    }
   ],
   "source": [
    "N_LGL = 8\n",
    "xi_LGL  = lagrange.LGL_points(N_LGL)\n",
    "eta_LGL = lagrange.LGL_points(N_LGL)\n",
    "Xi, Eta = utils.af_meshgrid(xi_LGL, eta_LGL)\n",
    "\n",
    "_, Li_xi  = lagrange.lagrange_polynomials(xi_LGL)\n",
    "_, Lj_eta = lagrange.lagrange_polynomials(eta_LGL)\n",
    "\n",
    "Li_xi  = af.np_to_af_array(Li_xi)\n",
    "Lj_eta = af.np_to_af_array(Lj_eta)\n",
    "Lp_xi  = Li_xi.copy()\n",
    "Lq_eta = Lj_eta.copy()\n",
    "\n",
    "# print(Lq_eta)\n",
    "Lp_xi_tile = af.reorder(Lq_eta, d0 = 2, d1 = 0, d2 = 1)\n",
    "Lp_xi_tile = af.tile(Lp_xi_tile, d0 = N_LGL)\n",
    "Lp_xi_tile = af.moddims(Lp_xi_tile, d0 = N_LGL * N_LGL, d1 = 1, d2 = N_LGL)\n",
    "Lp_xi_tile = af.reorder(Lp_xi_tile, d0 = 0, d1 = 2, d2 = 1)\n",
    "\n",
    "Lq_eta_tile = af.reorder(Lq_eta, d0 = 0, d1 = 2, d2 = 1)\n",
    "Lq_eta_tile = af.tile(Lq_eta_tile, d0 = N_LGL)\n",
    "Lq_eta_tile = af.reorder(Lq_eta_tile, d0 = 0, d1 = 2, d2 = 1)"
   ]
  },
  {
   "cell_type": "code",
   "execution_count": 13,
   "metadata": {},
   "outputs": [
    {
     "name": "stdout",
     "output_type": "stream",
     "text": [
      "arrayfire.Array()\n",
      "Type: double\n",
      "\n",
      "[64 8 1 1]\n",
      "   -3.3516     3.3516     3.8672    -3.8672    -1.0547     1.0547     0.0391    -0.0391 \n",
      "   -3.3516     3.3516     3.8672    -3.8672    -1.0547     1.0547     0.0391    -0.0391 \n",
      "   -3.3516     3.3516     3.8672    -3.8672    -1.0547     1.0547     0.0391    -0.0391 \n",
      "   -3.3516     3.3516     3.8672    -3.8672    -1.0547     1.0547     0.0391    -0.0391 \n",
      "   -3.3516     3.3516     3.8672    -3.8672    -1.0547     1.0547     0.0391    -0.0391 \n",
      "   -3.3516     3.3516     3.8672    -3.8672    -1.0547     1.0547     0.0391    -0.0391 \n",
      "   -3.3516     3.3516     3.8672    -3.8672    -1.0547     1.0547     0.0391    -0.0391 \n",
      "   -3.3516     3.3516     3.8672    -3.8672    -1.0547     1.0547     0.0391    -0.0391 \n",
      "    8.1407    -7.0966   -11.3475     9.8921     3.3316    -2.9043    -0.1249     0.1088 \n",
      "    8.1407    -7.0966   -11.3475     9.8921     3.3316    -2.9043    -0.1249     0.1088 \n",
      "    8.1407    -7.0966   -11.3475     9.8921     3.3316    -2.9043    -0.1249     0.1088 \n",
      "    8.1407    -7.0966   -11.3475     9.8921     3.3316    -2.9043    -0.1249     0.1088 \n",
      "    8.1407    -7.0966   -11.3475     9.8921     3.3316    -2.9043    -0.1249     0.1088 \n",
      "    8.1407    -7.0966   -11.3475     9.8921     3.3316    -2.9043    -0.1249     0.1088 \n",
      "    8.1407    -7.0966   -11.3475     9.8921     3.3316    -2.9043    -0.1249     0.1088 \n",
      "    8.1407    -7.0966   -11.3475     9.8921     3.3316    -2.9043    -0.1249     0.1088 \n",
      "  -10.3581     6.1289    18.6834   -11.0549    -8.6700     5.1301     0.3448    -0.2040 \n",
      "  -10.3581     6.1289    18.6834   -11.0549    -8.6700     5.1301     0.3448    -0.2040 \n",
      "  -10.3581     6.1289    18.6834   -11.0549    -8.6700     5.1301     0.3448    -0.2040 \n",
      "  -10.3581     6.1289    18.6834   -11.0549    -8.6700     5.1301     0.3448    -0.2040 \n",
      "  -10.3581     6.1289    18.6834   -11.0549    -8.6700     5.1301     0.3448    -0.2040 \n",
      "  -10.3581     6.1289    18.6834   -11.0549    -8.6700     5.1301     0.3448    -0.2040 \n",
      "  -10.3581     6.1289    18.6834   -11.0549    -8.6700     5.1301     0.3448    -0.2040 \n",
      "  -10.3581     6.1289    18.6834   -11.0549    -8.6700     5.1301     0.3448    -0.2040 \n",
      "   11.3898    -2.3839   -24.0330     5.0301    15.6735    -3.2805    -3.0304     0.6343 \n",
      "   11.3898    -2.3839   -24.0330     5.0301    15.6735    -3.2805    -3.0304     0.6343 \n",
      "   11.3898    -2.3839   -24.0330     5.0301    15.6735    -3.2805    -3.0304     0.6343 \n",
      "   11.3898    -2.3839   -24.0330     5.0301    15.6735    -3.2805    -3.0304     0.6343 \n",
      "   11.3898    -2.3839   -24.0330     5.0301    15.6735    -3.2805    -3.0304     0.6343 \n",
      "   11.3898    -2.3839   -24.0330     5.0301    15.6735    -3.2805    -3.0304     0.6343 \n",
      "   11.3898    -2.3839   -24.0330     5.0301    15.6735    -3.2805    -3.0304     0.6343 \n",
      "   11.3898    -2.3839   -24.0330     5.0301    15.6735    -3.2805    -3.0304     0.6343 \n",
      "  -11.3898    -2.3839    24.0330     5.0301   -15.6735    -3.2805     3.0304     0.6343 \n",
      "  -11.3898    -2.3839    24.0330     5.0301   -15.6735    -3.2805     3.0304     0.6343 \n",
      "  -11.3898    -2.3839    24.0330     5.0301   -15.6735    -3.2805     3.0304     0.6343 \n",
      "  -11.3898    -2.3839    24.0330     5.0301   -15.6735    -3.2805     3.0304     0.6343 \n",
      "  -11.3898    -2.3839    24.0330     5.0301   -15.6735    -3.2805     3.0304     0.6343 \n",
      "  -11.3898    -2.3839    24.0330     5.0301   -15.6735    -3.2805     3.0304     0.6343 \n",
      "  -11.3898    -2.3839    24.0330     5.0301   -15.6735    -3.2805     3.0304     0.6343 \n",
      "  -11.3898    -2.3839    24.0330     5.0301   -15.6735    -3.2805     3.0304     0.6343 \n",
      "   10.3581     6.1289   -18.6834   -11.0549     8.6700     5.1301    -0.3448    -0.2040 \n",
      "   10.3581     6.1289   -18.6834   -11.0549     8.6700     5.1301    -0.3448    -0.2040 \n",
      "   10.3581     6.1289   -18.6834   -11.0549     8.6700     5.1301    -0.3448    -0.2040 \n",
      "   10.3581     6.1289   -18.6834   -11.0549     8.6700     5.1301    -0.3448    -0.2040 \n",
      "   10.3581     6.1289   -18.6834   -11.0549     8.6700     5.1301    -0.3448    -0.2040 \n",
      "   10.3581     6.1289   -18.6834   -11.0549     8.6700     5.1301    -0.3448    -0.2040 \n",
      "   10.3581     6.1289   -18.6834   -11.0549     8.6700     5.1301    -0.3448    -0.2040 \n",
      "   10.3581     6.1289   -18.6834   -11.0549     8.6700     5.1301    -0.3448    -0.2040 \n",
      "   -8.1407    -7.0966    11.3475     9.8921    -3.3316    -2.9043     0.1249     0.1088 \n",
      "   -8.1407    -7.0966    11.3475     9.8921    -3.3316    -2.9043     0.1249     0.1088 \n",
      "   -8.1407    -7.0966    11.3475     9.8921    -3.3316    -2.9043     0.1249     0.1088 \n",
      "   -8.1407    -7.0966    11.3475     9.8921    -3.3316    -2.9043     0.1249     0.1088 \n",
      "   -8.1407    -7.0966    11.3475     9.8921    -3.3316    -2.9043     0.1249     0.1088 \n",
      "   -8.1407    -7.0966    11.3475     9.8921    -3.3316    -2.9043     0.1249     0.1088 \n",
      "   -8.1407    -7.0966    11.3475     9.8921    -3.3316    -2.9043     0.1249     0.1088 \n",
      "   -8.1407    -7.0966    11.3475     9.8921    -3.3316    -2.9043     0.1249     0.1088 \n",
      "    3.3516     3.3516    -3.8672    -3.8672     1.0547     1.0547    -0.0391    -0.0391 \n",
      "    3.3516     3.3516    -3.8672    -3.8672     1.0547     1.0547    -0.0391    -0.0391 \n",
      "    3.3516     3.3516    -3.8672    -3.8672     1.0547     1.0547    -0.0391    -0.0391 \n",
      "    3.3516     3.3516    -3.8672    -3.8672     1.0547     1.0547    -0.0391    -0.0391 \n",
      "    3.3516     3.3516    -3.8672    -3.8672     1.0547     1.0547    -0.0391    -0.0391 \n",
      "    3.3516     3.3516    -3.8672    -3.8672     1.0547     1.0547    -0.0391    -0.0391 \n",
      "    3.3516     3.3516    -3.8672    -3.8672     1.0547     1.0547    -0.0391    -0.0391 \n",
      "    3.3516     3.3516    -3.8672    -3.8672     1.0547     1.0547    -0.0391    -0.0391 \n",
      "\n",
      " arrayfire.Array()\n",
      "Type: double\n",
      "\n",
      "[64 8 1 1]\n",
      "   -3.3516     3.3516     3.8672    -3.8672    -1.0547     1.0547     0.0391    -0.0391 \n",
      "    8.1407    -7.0966   -11.3475     9.8921     3.3316    -2.9043    -0.1249     0.1088 \n",
      "  -10.3581     6.1289    18.6834   -11.0549    -8.6700     5.1301     0.3448    -0.2040 \n",
      "   11.3898    -2.3839   -24.0330     5.0301    15.6735    -3.2805    -3.0304     0.6343 \n",
      "  -11.3898    -2.3839    24.0330     5.0301   -15.6735    -3.2805     3.0304     0.6343 \n",
      "   10.3581     6.1289   -18.6834   -11.0549     8.6700     5.1301    -0.3448    -0.2040 \n",
      "   -8.1407    -7.0966    11.3475     9.8921    -3.3316    -2.9043     0.1249     0.1088 \n",
      "    3.3516     3.3516    -3.8672    -3.8672     1.0547     1.0547    -0.0391    -0.0391 \n",
      "   -3.3516     3.3516     3.8672    -3.8672    -1.0547     1.0547     0.0391    -0.0391 \n",
      "    8.1407    -7.0966   -11.3475     9.8921     3.3316    -2.9043    -0.1249     0.1088 \n",
      "  -10.3581     6.1289    18.6834   -11.0549    -8.6700     5.1301     0.3448    -0.2040 \n",
      "   11.3898    -2.3839   -24.0330     5.0301    15.6735    -3.2805    -3.0304     0.6343 \n",
      "  -11.3898    -2.3839    24.0330     5.0301   -15.6735    -3.2805     3.0304     0.6343 \n",
      "   10.3581     6.1289   -18.6834   -11.0549     8.6700     5.1301    -0.3448    -0.2040 \n",
      "   -8.1407    -7.0966    11.3475     9.8921    -3.3316    -2.9043     0.1249     0.1088 \n",
      "    3.3516     3.3516    -3.8672    -3.8672     1.0547     1.0547    -0.0391    -0.0391 \n",
      "   -3.3516     3.3516     3.8672    -3.8672    -1.0547     1.0547     0.0391    -0.0391 \n",
      "    8.1407    -7.0966   -11.3475     9.8921     3.3316    -2.9043    -0.1249     0.1088 \n",
      "  -10.3581     6.1289    18.6834   -11.0549    -8.6700     5.1301     0.3448    -0.2040 \n",
      "   11.3898    -2.3839   -24.0330     5.0301    15.6735    -3.2805    -3.0304     0.6343 \n",
      "  -11.3898    -2.3839    24.0330     5.0301   -15.6735    -3.2805     3.0304     0.6343 \n",
      "   10.3581     6.1289   -18.6834   -11.0549     8.6700     5.1301    -0.3448    -0.2040 \n",
      "   -8.1407    -7.0966    11.3475     9.8921    -3.3316    -2.9043     0.1249     0.1088 \n",
      "    3.3516     3.3516    -3.8672    -3.8672     1.0547     1.0547    -0.0391    -0.0391 \n",
      "   -3.3516     3.3516     3.8672    -3.8672    -1.0547     1.0547     0.0391    -0.0391 \n",
      "    8.1407    -7.0966   -11.3475     9.8921     3.3316    -2.9043    -0.1249     0.1088 \n",
      "  -10.3581     6.1289    18.6834   -11.0549    -8.6700     5.1301     0.3448    -0.2040 \n",
      "   11.3898    -2.3839   -24.0330     5.0301    15.6735    -3.2805    -3.0304     0.6343 \n",
      "  -11.3898    -2.3839    24.0330     5.0301   -15.6735    -3.2805     3.0304     0.6343 \n",
      "   10.3581     6.1289   -18.6834   -11.0549     8.6700     5.1301    -0.3448    -0.2040 \n",
      "   -8.1407    -7.0966    11.3475     9.8921    -3.3316    -2.9043     0.1249     0.1088 \n",
      "    3.3516     3.3516    -3.8672    -3.8672     1.0547     1.0547    -0.0391    -0.0391 \n",
      "   -3.3516     3.3516     3.8672    -3.8672    -1.0547     1.0547     0.0391    -0.0391 \n",
      "    8.1407    -7.0966   -11.3475     9.8921     3.3316    -2.9043    -0.1249     0.1088 \n",
      "  -10.3581     6.1289    18.6834   -11.0549    -8.6700     5.1301     0.3448    -0.2040 \n",
      "   11.3898    -2.3839   -24.0330     5.0301    15.6735    -3.2805    -3.0304     0.6343 \n",
      "  -11.3898    -2.3839    24.0330     5.0301   -15.6735    -3.2805     3.0304     0.6343 \n",
      "   10.3581     6.1289   -18.6834   -11.0549     8.6700     5.1301    -0.3448    -0.2040 \n",
      "   -8.1407    -7.0966    11.3475     9.8921    -3.3316    -2.9043     0.1249     0.1088 \n",
      "    3.3516     3.3516    -3.8672    -3.8672     1.0547     1.0547    -0.0391    -0.0391 \n",
      "   -3.3516     3.3516     3.8672    -3.8672    -1.0547     1.0547     0.0391    -0.0391 \n",
      "    8.1407    -7.0966   -11.3475     9.8921     3.3316    -2.9043    -0.1249     0.1088 \n",
      "  -10.3581     6.1289    18.6834   -11.0549    -8.6700     5.1301     0.3448    -0.2040 \n",
      "   11.3898    -2.3839   -24.0330     5.0301    15.6735    -3.2805    -3.0304     0.6343 \n",
      "  -11.3898    -2.3839    24.0330     5.0301   -15.6735    -3.2805     3.0304     0.6343 \n",
      "   10.3581     6.1289   -18.6834   -11.0549     8.6700     5.1301    -0.3448    -0.2040 \n",
      "   -8.1407    -7.0966    11.3475     9.8921    -3.3316    -2.9043     0.1249     0.1088 \n",
      "    3.3516     3.3516    -3.8672    -3.8672     1.0547     1.0547    -0.0391    -0.0391 \n",
      "   -3.3516     3.3516     3.8672    -3.8672    -1.0547     1.0547     0.0391    -0.0391 \n",
      "    8.1407    -7.0966   -11.3475     9.8921     3.3316    -2.9043    -0.1249     0.1088 \n",
      "  -10.3581     6.1289    18.6834   -11.0549    -8.6700     5.1301     0.3448    -0.2040 \n",
      "   11.3898    -2.3839   -24.0330     5.0301    15.6735    -3.2805    -3.0304     0.6343 \n",
      "  -11.3898    -2.3839    24.0330     5.0301   -15.6735    -3.2805     3.0304     0.6343 \n",
      "   10.3581     6.1289   -18.6834   -11.0549     8.6700     5.1301    -0.3448    -0.2040 \n",
      "   -8.1407    -7.0966    11.3475     9.8921    -3.3316    -2.9043     0.1249     0.1088 \n",
      "    3.3516     3.3516    -3.8672    -3.8672     1.0547     1.0547    -0.0391    -0.0391 \n",
      "   -3.3516     3.3516     3.8672    -3.8672    -1.0547     1.0547     0.0391    -0.0391 \n",
      "    8.1407    -7.0966   -11.3475     9.8921     3.3316    -2.9043    -0.1249     0.1088 \n",
      "  -10.3581     6.1289    18.6834   -11.0549    -8.6700     5.1301     0.3448    -0.2040 \n",
      "   11.3898    -2.3839   -24.0330     5.0301    15.6735    -3.2805    -3.0304     0.6343 \n",
      "  -11.3898    -2.3839    24.0330     5.0301   -15.6735    -3.2805     3.0304     0.6343 \n",
      "   10.3581     6.1289   -18.6834   -11.0549     8.6700     5.1301    -0.3448    -0.2040 \n",
      "   -8.1407    -7.0966    11.3475     9.8921    -3.3316    -2.9043     0.1249     0.1088 \n",
      "    3.3516     3.3516    -3.8672    -3.8672     1.0547     1.0547    -0.0391    -0.0391 \n",
      "\n",
      "\n"
     ]
    }
   ],
   "source": [
    "print(Lp_xi_tile, Lq_eta_tile)"
   ]
  },
  {
   "cell_type": "code",
   "execution_count": 14,
   "metadata": {},
   "outputs": [],
   "source": [
    "for p in range(N_LGL):\n",
    "    for q in range(N_LGL):\n",
    "        Lp_value_LGL_points = af.transpose(utils.polyval_1d(L_p_coeffs[p], xi_i))\n",
    "        Lq_value_LGL_points = af.transpose(utils.polyval_1d(L_q_coeffs[q], eta_j))\n",
    "\n",
    "        dLp_dxi_LGL_points  = af.transpose(utils.polyval_1d(dLp_dxi_coeffs[p], xi_i))\n",
    "        dLq_deta_LGL_points = af.transpose(utils.polyval_1d(dLq_deta_coeffs[q], eta_j))\n",
    "        \n",
    "        g_00 = g_ab[0][0]\n",
    "        \n",
    "        #print(F_xi(u_ij).shape, Lq_value_LGL_points.shape, dLp_dxi_LGL_points.shape)\n",
    "        v_00            = g_00 * F_xi(u_ij) * Lq_value_LGL_points * dLp_dxi_LGL_points\n",
    "        volume_integral = af.sum(v_00 * utils.integrate_2d(Lp_xi_tile, Lq_eta_tile, order = 9, scheme = 'gauss'))\n",
    "        #print(volume_integral)"
   ]
  },
  {
   "cell_type": "code",
   "execution_count": null,
   "metadata": {
    "collapsed": true
   },
   "outputs": [],
   "source": []
  },
  {
   "cell_type": "code",
   "execution_count": null,
   "metadata": {
    "collapsed": true
   },
   "outputs": [],
   "source": []
  },
  {
   "cell_type": "code",
   "execution_count": 16,
   "metadata": {},
   "outputs": [
    {
     "data": {
      "text/plain": [
       "arrayfire.Array()\n",
       "Type: double\n",
       "Dims: (64,)"
      ]
     },
     "execution_count": 16,
     "metadata": {},
     "output_type": "execute_result"
    }
   ],
   "source": [
    "utils.integrate_2d(Lp_xi_tile, Lq_eta_tile, order = 9, scheme = 'gauss')"
   ]
  },
  {
   "cell_type": "code",
   "execution_count": 17,
   "metadata": {},
   "outputs": [
    {
     "data": {
      "text/plain": [
       "0.48848320148315644"
      ]
     },
     "execution_count": 17,
     "metadata": {},
     "output_type": "execute_result"
    }
   ],
   "source": [
    "0.000424369962806095 / 0.0008687503715943605"
   ]
  },
  {
   "cell_type": "code",
   "execution_count": 18,
   "metadata": {},
   "outputs": [
    {
     "data": {
      "text/plain": [
       "0.488483201485989"
      ]
     },
     "execution_count": 18,
     "metadata": {},
     "output_type": "execute_result"
    }
   ],
   "source": [
    "-0.00250366326102057 / -0.0051253825175652055"
   ]
  },
  {
   "cell_type": "code",
   "execution_count": 19,
   "metadata": {},
   "outputs": [
    {
     "data": {
      "text/plain": [
       "5.170215683486091"
      ]
     },
     "execution_count": 19,
     "metadata": {},
     "output_type": "execute_result"
    }
   ],
   "source": [
    "0.0015928056643658513 / 0.000308073349716018"
   ]
  },
  {
   "cell_type": "code",
   "execution_count": null,
   "metadata": {
    "collapsed": true
   },
   "outputs": [],
   "source": []
  }
 ],
 "metadata": {
  "kernelspec": {
   "display_name": "Python 3",
   "language": "python",
   "name": "python3"
  },
  "language_info": {
   "codemirror_mode": {
    "name": "ipython",
    "version": 3
   },
   "file_extension": ".py",
   "mimetype": "text/x-python",
   "name": "python",
   "nbconvert_exporter": "python",
   "pygments_lexer": "ipython3",
   "version": "3.6.3"
  }
 },
 "nbformat": 4,
 "nbformat_minor": 2
}
