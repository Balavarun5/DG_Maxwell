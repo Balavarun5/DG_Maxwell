{
 "cells": [
  {
   "cell_type": "code",
   "execution_count": 1,
   "metadata": {},
   "outputs": [],
   "source": [
    "import os\n",
    "import sys\n",
    "sys.path.insert(0, os.path.abspath('../'))\n",
    "\n",
    "import numpy as np\n",
    "from matplotlib import pyplot as plt\n",
    "import arrayfire as af\n",
    "\n",
    "from dg_maxwell import utils\n",
    "from dg_maxwell import lagrange\n",
    "from dg_maxwell import params\n",
    "\n",
    "af.set_backend(params.backend)"
   ]
  },
  {
   "cell_type": "code",
   "execution_count": 74,
   "metadata": {},
   "outputs": [],
   "source": [
    "N = 9\n",
    "foo = af.range(N, dtype = af.Dtype.u32)\n",
    "foo = af.moddims(foo, d0 = 3, d1 = 3)"
   ]
  },
  {
   "cell_type": "code",
   "execution_count": 78,
   "metadata": {},
   "outputs": [
    {
     "name": "stdout",
     "output_type": "stream",
     "text": [
      "arrayfire.Array()\n",
      "Type: unsigned int\n",
      "\n",
      "[3 3 1 1]\n",
      "         0          3          6 \n",
      "         1          4          7 \n",
      "         2          5          8 \n",
      "\n",
      "\n",
      "arrayfire.Array()\n",
      "Type: unsigned int\n",
      "\n",
      "[3 3 1 1]\n",
      "         0          3          6 \n",
      "         1          4          7 \n",
      "         2          5          8 \n",
      "\n",
      "\n",
      "arrayfire.Array()\n",
      "Type: unsigned int\n",
      "\n",
      "[3 5 1 1]\n",
      "         0          0          9         36         36 \n",
      "         1          8         30         56         49 \n",
      "         4         20         57         80         64 \n",
      "\n",
      "\n"
     ]
    }
   ],
   "source": [
    "print(foo)\n",
    "print(foo)\n",
    "\n",
    "print(af.transpose(af.convolve1(af.transpose(foo), af.transpose(foo), conv_mode = af.CONV_MODE.EXPAND)))\n"
   ]
  },
  {
   "cell_type": "code",
   "execution_count": 87,
   "metadata": {},
   "outputs": [
    {
     "name": "stdout",
     "output_type": "stream",
     "text": [
      " \n",
      "3 x + 6\t<---------- original polynomial\n",
      "\n",
      "   2\n",
      "9 x + 36 x + 36\t<---------- polynomial square\n",
      "\n",
      "\n",
      "\n",
      "   2\n",
      "1 x + 4 x + 7\t<---------- original polynomial\n",
      "\n",
      "   4     3      2\n",
      "1 x + 8 x + 30 x + 56 x + 49\t<---------- polynomial square\n",
      "\n",
      "\n",
      "\n",
      "   2\n",
      "2 x + 5 x + 8\t<---------- original polynomial\n",
      "\n",
      "   4      3      2\n",
      "4 x + 20 x + 57 x + 80 x + 64\t<---------- polynomial square\n",
      "\n",
      "\n",
      "\n"
     ]
    }
   ],
   "source": [
    "for poly in foo:\n",
    "    foo_poly = np.poly1d(np.array(af.transpose(poly)))\n",
    "    print(foo_poly, end = '')\n",
    "    print('\\t<---------- original polynomial\\n')\n",
    "    print(foo_poly * foo_poly, end = '')\n",
    "    print('\\t<---------- polynomial square\\n')\n",
    "    print('\\n')"
   ]
  },
  {
   "cell_type": "code",
   "execution_count": null,
   "metadata": {},
   "outputs": [],
   "source": []
  }
 ],
 "metadata": {
  "kernelspec": {
   "display_name": "Python 3",
   "language": "python",
   "name": "python3"
  },
  "language_info": {
   "codemirror_mode": {
    "name": "ipython",
    "version": 3
   },
   "file_extension": ".py",
   "mimetype": "text/x-python",
   "name": "python",
   "nbconvert_exporter": "python",
   "pygments_lexer": "ipython3",
   "version": "3.5.2"
  }
 },
 "nbformat": 4,
 "nbformat_minor": 2
}
