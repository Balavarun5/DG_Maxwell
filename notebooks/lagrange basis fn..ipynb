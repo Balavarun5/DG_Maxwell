{
 "cells": [
  {
   "cell_type": "code",
   "execution_count": 1,
   "metadata": {
    "collapsed": true
   },
   "outputs": [],
   "source": [
    "import numpy as np\n",
    "import pylab as pl\n",
    "from scipy.integrate import odeint\n",
    "from matplotlib import animation\n",
    "import random\n",
    "%matplotlib inline"
   ]
  },
  {
   "cell_type": "code",
   "execution_count": 2,
   "metadata": {
    "collapsed": true
   },
   "outputs": [],
   "source": [
    "from mpl_toolkits.mplot3d import Axes3D\n",
    "import matplotlib.pyplot as plt\n",
    "import numpy as np\n",
    "import arrayfire as af\n",
    "af.set_backend('opencl')"
   ]
  },
  {
   "cell_type": "code",
   "execution_count": 3,
   "metadata": {
    "collapsed": true
   },
   "outputs": [],
   "source": [
    "pl.rcParams['figure.figsize'] = 12, 7.5 \n",
    "pl.rcParams['figure.dpi'] = 100 \n",
    "pl.rcParams['image.cmap'] = 'jet' \n",
    "pl.rcParams['lines.linewidth'] = 1.5 \n",
    "pl.rcParams['font.family'] = 'serif' \n",
    "pl.rcParams['font.weight'] = 'bold' \n",
    "pl.rcParams['font.size'] = 20 \n",
    "pl.rcParams['font.sans-serif'] = 'serif' \n",
    "pl.rcParams['text.usetex'] = False \n",
    "pl.rcParams['axes.linewidth'] = 1.5 \n",
    "pl.rcParams['axes.titlesize'] = 'medium' \n",
    "pl.rcParams['axes.labelsize'] = 'medium' \n",
    "pl.rcParams['xtick.major.size'] = 8 \n",
    "pl.rcParams['xtick.minor.size'] = 4 \n",
    "pl.rcParams['xtick.major.pad'] = 8 \n",
    "pl.rcParams['xtick.minor.pad'] = 8 \n",
    "pl.rcParams['xtick.color'] = 'k' \n",
    "pl.rcParams['xtick.labelsize'] = 'medium' \n",
    "pl.rcParams['xtick.direction'] = 'in' \n",
    "pl.rcParams['ytick.major.size'] = 8 \n",
    "pl.rcParams['ytick.minor.size'] = 4 \n",
    "pl.rcParams['ytick.major.pad'] = 8 \n",
    "pl.rcParams['ytick.minor.pad'] = 8 \n",
    "pl.rcParams['ytick.color'] = 'k' \n",
    "pl.rcParams['ytick.labelsize'] = 'medium' \n",
    "pl.rcParams['ytick.direction'] = 'in'"
   ]
  },
  {
   "cell_type": "code",
   "execution_count": 4,
   "metadata": {
    "collapsed": true
   },
   "outputs": [],
   "source": [
    "def lagrange_basis_coeffs( X ):\n",
    "    '''\n",
    "    Returns a matrix of coefficients of the\n",
    "    lagrange basis polynomials\n",
    "    '''\n",
    "    \n",
    "    denominator  = np.ones([X.size])\n",
    "    null = np.zeros([X.size])\n",
    "    \n",
    "    for j in range(X.size):\n",
    "        k = np.poly1d([1])\n",
    "        for m in range(X.size):\n",
    "            if m != j:\n",
    "                denominator[j] *= (X[j] - X[m])\n",
    "                k *= np.poly1d([1, -X[m]])\n",
    "        coeff = (k.c) / denominator[j]\n",
    "        null  = np.vstack((null, coeff))\n",
    "        \n",
    "    basis_coeffs = np.delete(null, (0), axis = 0)\n",
    "    \n",
    "    '''\n",
    "    Global Variables\n",
    "    '''\n",
    "    \n",
    "    \n",
    "    coeff_array = af.interop.np_to_af_array(lagrange_basis_coeffs(X))\n",
    "    \n",
    "    Y = af.interop.np_to_af_array(X)\n",
    "    \n",
    "    \n",
    "    return ()"
   ]
  },
  {
   "cell_type": "code",
   "execution_count": 5,
   "metadata": {
    "collapsed": true
   },
   "outputs": [],
   "source": [
    "def linspace(start, end, number_of_points):\n",
    "    '''\n",
    "    Linspace implementation using arrayfire.\n",
    "    '''\n",
    "    X = af.range(number_of_points)\n",
    "    d = (end - start) / (number_of_points - 1)\n",
    "    X = X * d\n",
    "    X = X + start\n",
    "    return X\n"
   ]
  },
  {
   "cell_type": "code",
   "execution_count": 6,
   "metadata": {
    "collapsed": true
   },
   "outputs": [],
   "source": [
    "def LagrangeBasisFnsValues(i, x):\n",
    "    '''\n",
    "    Returns the value of lagrange polynomial\n",
    "    at index i for points in x\n",
    "    '''\n",
    "    \n",
    "    \n",
    "    \n",
    "    coeff       = af.arith.cast(af.transpose(coeff_array[i]), af.Dtype.f32)\n",
    "    outer_prod  = af.blas.matmul(coeff, x)\n",
    "    x_tile      = af.tile(x,coeff.shape[0])\n",
    "    power       = linspace((Y.shape[0] - 2), -1, Y.shape[0])\n",
    "    powtile     = af.tile(power, 1, x.shape[1])\n",
    "    x_pow       = af.arith.pow(x_tile, powtile)\n",
    "    res         = outer_prod * x_pow\n",
    "    lagrange    = af.algorithm.sum(res, dim=0)\n",
    "    \n",
    "    return(lagrange)"
   ]
  },
  {
   "cell_type": "code",
   "execution_count": 10,
   "metadata": {},
   "outputs": [
    {
     "name": "stdout",
     "output_type": "stream",
     "text": [
      "arrayfire.Array()\n",
      "Type: float\n",
      "\n",
      "[1 10 1 1]\n",
      "   -0.2961    -0.5224    -0.5587     0.9422     0.6516    -0.2382     0.1417     0.9160     0.9009    -0.5426 \n",
      "\n"
     ]
    }
   ],
   "source": [
    "X    = np.linspace(-1, 1, 5, dtype = float)\n",
    "x    = af.randu(1, 10)\n",
    "vals = LagrangeBasisFnsValues(X, 2, x)\n",
    "print(vals)"
   ]
  },
  {
   "cell_type": "code",
   "execution_count": 11,
   "metadata": {
    "collapsed": true
   },
   "outputs": [],
   "source": [
    "def fn(x):\n",
    "    return(4 * (x ** 4) - 5 * (x ** 2) + 1)\n",
    "    "
   ]
  },
  {
   "cell_type": "code",
   "execution_count": 12,
   "metadata": {},
   "outputs": [
    {
     "name": "stdout",
     "output_type": "stream",
     "text": [
      "arrayfire.Array()\n",
      "Type: float\n",
      "\n",
      "[1 10 1 1]\n",
      "    0.0000     0.0000     0.0000     0.0000     0.0000     0.0000    -0.0000     0.0000     0.0000     0.0000 \n",
      "\n"
     ]
    }
   ],
   "source": [
    "print(fn(x) - vals)"
   ]
  },
  {
   "cell_type": "code",
   "execution_count": 10,
   "metadata": {},
   "outputs": [
    {
     "name": "stdout",
     "output_type": "stream",
     "text": [
      "arrayfire.Array()\n",
      "Type: float\n",
      "\n",
      "[1 2 1 1]\n",
      "    0.9397     0.7245 \n",
      " arrayfire.Array()\n",
      "Type: float\n",
      "\n",
      "[1 2 1 1]\n",
      "    0.8098     0.1080 \n",
      " arrayfire.Array()\n",
      "Type: float\n",
      "\n",
      "[1 2 1 1]\n",
      "    0.1299     0.6165 \n",
      "\n"
     ]
    }
   ],
   "source": [
    "a = af.randu(1, 2)\n",
    "b = af.randu(1, 2)\n",
    "print(a, b, a - b)"
   ]
  },
  {
   "cell_type": "code",
   "execution_count": null,
   "metadata": {
    "collapsed": true
   },
   "outputs": [],
   "source": []
  },
  {
   "cell_type": "code",
   "execution_count": 11,
   "metadata": {
    "scrolled": false
   },
   "outputs": [
    {
     "name": "stdout",
     "output_type": "stream",
     "text": [
      "arrayfire.Array()\n",
      "Type: float\n",
      "\n",
      "[5 4 1 1]\n",
      "    0.0000     0.0000     0.0000     0.0000 \n",
      "    1.0000     1.0000     1.0000     1.0000 \n",
      "    2.0000     2.0000     2.0000     2.0000 \n",
      "    3.0000     3.0000     3.0000     3.0000 \n",
      "    4.0000     4.0000     4.0000     4.0000 \n",
      "\n",
      " arrayfire.Array()\n",
      "Type: float\n",
      "\n",
      "[5 4 1 1]\n",
      "    7.0000     6.0000     2.0000     3.0000 \n",
      "    7.0000     6.0000     2.0000     3.0000 \n",
      "    7.0000     6.0000     2.0000     3.0000 \n",
      "    7.0000     6.0000     2.0000     3.0000 \n",
      "    7.0000     6.0000     2.0000     3.0000 \n",
      "\n",
      " arrayfire.Array()\n",
      "Type: float\n",
      "\n",
      "[5 4 1 1]\n",
      "    1.0000     1.0000     1.0000     1.0000 \n",
      "    7.0000     6.0000     2.0000     3.0000 \n",
      "   49.0000    36.0000     4.0000     9.0000 \n",
      "  343.0000   216.0000     8.0000    27.0000 \n",
      " 2401.0000  1296.0000    16.0000    81.0000 \n",
      "\n",
      "\n"
     ]
    }
   ],
   "source": [
    "x = af.transpose(af.Array([7, 6, 2, 3]))\n",
    "power = af.Array([0, 1, 2, 3, 4])\n",
    "powtile = af.tile(power, 1, 4)\n",
    "xtile = af.tile(x, 5)\n",
    "res = af.arith.pow(xtile, powtile)\n",
    "print(powtile, xtile, res)"
   ]
  },
  {
   "cell_type": "code",
   "execution_count": null,
   "metadata": {},
   "outputs": [],
   "source": []
  },
  {
   "cell_type": "code",
   "execution_count": null,
   "metadata": {
    "collapsed": true
   },
   "outputs": [],
   "source": []
  },
  {
   "cell_type": "code",
   "execution_count": null,
   "metadata": {
    "collapsed": true
   },
   "outputs": [],
   "source": []
  }
 ],
 "metadata": {
  "kernelspec": {
   "display_name": "Python 3",
   "language": "python",
   "name": "python3"
  },
  "language_info": {
   "codemirror_mode": {
    "name": "ipython",
    "version": 3
   },
   "file_extension": ".py",
   "mimetype": "text/x-python",
   "name": "python",
   "nbconvert_exporter": "python",
   "pygments_lexer": "ipython3",
   "version": "3.6.1"
  }
 },
 "nbformat": 4,
 "nbformat_minor": 2
}
